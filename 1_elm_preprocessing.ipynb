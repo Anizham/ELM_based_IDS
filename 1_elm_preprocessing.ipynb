{
 "cells": [
  {
   "cell_type": "markdown",
   "id": "d2f2232a-3e79-4ea7-8be1-33e1123ee898",
   "metadata": {},
   "source": [
    "### Loading libraries"
   ]
  },
  {
   "cell_type": "code",
   "execution_count": 6,
   "id": "4b1b0859-2553-4b52-a40f-043f1c6f5c49",
   "metadata": {},
   "outputs": [],
   "source": [
    "# basic packages for data processing\n",
    "import os       # to create directories and remove files\n",
    "import csv      # to remove extra columns in CSE-CIC-IDS2018 dataset\n",
    "import pandas as pd\n",
    "import numpy as np \n",
    "import random # import random package to specify the random seed\n",
    "\n",
    "# modules for machine learning\n",
    "from sklearn.model_selection import train_test_split, cross_val_score, GridSearchCV\n",
    "from sklearn.preprocessing import StandardScaler, LabelEncoder, OneHotEncoder\n",
    "from sklearn import tree \n",
    "from sklearn.ensemble import RandomForestClassifier\n",
    "from sklearn.svm import SVC\n",
    "from sklearn.naive_bayes import GaussianNB\n",
    "from sklearn.neural_network import MLPClassifier\n",
    "from skelm import ELMClassifier\n",
    "\n",
    "# modules to interpret the training result\n",
    "from sklearn import metrics\n",
    "from sklearn.metrics import accuracy_score, confusion_matrix, ConfusionMatrixDisplay\n",
    "import matplotlib.pyplot as plt\n",
    "%matplotlib inline\n",
    "\n",
    "import warnings\n",
    "warnings.filterwarnings('ignore')\n",
    "\n",
    "# set the random seed to ensure the result is reproducible\n",
    "random.seed(10)\n",
    "np.random.seed(10)"
   ]
  },
  {
   "cell_type": "markdown",
   "id": "23f9aa8b-4207-46eb-9402-ac7494cbd25f",
   "metadata": {},
   "source": [
    "### Loading Dataset"
   ]
  },
  {
   "cell_type": "code",
   "execution_count": 7,
   "id": "88bbb312-43a1-4960-a748-8ec382bd4ce2",
   "metadata": {},
   "outputs": [
    {
     "name": "stdout",
     "output_type": "stream",
     "text": [
      "(10, 80)\n"
     ]
    }
   ],
   "source": [
    "cse_cic_ids2018 = pd.read_csv(f'D:/NCI/Practicum2/dataset/CSE-CIC-IDS2018/Processed Traffic Data for ML Algorithms/Friday-02-03-2018_TrafficForML_CICFlowMeter.csv', nrows=10)\n",
    "cse_cic_ids2018_typical_columns = pd.Series(cse_cic_ids2018.columns, dtype='str')\n",
    "print(cse_cic_ids2018.shape)"
   ]
  },
  {
   "cell_type": "markdown",
   "id": "bf49126b-577b-40d4-bd17-025c4205c3d6",
   "metadata": {},
   "source": [
    "### Load the problematic file"
   ]
  },
  {
   "cell_type": "code",
   "execution_count": 8,
   "id": "e8e0bf4c-f46e-4d6c-b6b5-9dbc5a6397e2",
   "metadata": {},
   "outputs": [
    {
     "data": {
      "text/plain": [
       "(10, 84)"
      ]
     },
     "execution_count": 8,
     "metadata": {},
     "output_type": "execute_result"
    }
   ],
   "source": [
    "cse_cic_ids2018_20022018 = pd.read_csv('D:/NCI/Practicum2/dataset/CSE-CIC-IDS2018/Processed Traffic Data for ML Algorithms/Thuesday-20-02-2018_TrafficForML_CICFlowMeter.csv', nrows=10)\n",
    "cse_cic_ids2018_20022018_columns = pd.Series(cse_cic_ids2018_20022018.columns, dtype='str')\n",
    "\n",
    "cse_cic_ids2018_20022018.shape"
   ]
  },
  {
   "cell_type": "markdown",
   "id": "7d1df424-75a1-4312-9581-0c37c40fe718",
   "metadata": {},
   "source": [
    "Check for columns that only exist in the problematic file."
   ]
  },
  {
   "cell_type": "code",
   "execution_count": 9,
   "id": "f40a3cc0-9a9f-4bf3-bb97-56cba24e1541",
   "metadata": {},
   "outputs": [
    {
     "data": {
      "text/plain": [
       "0     Flow ID\n",
       "1      Src IP\n",
       "2    Src Port\n",
       "3      Dst IP\n",
       "dtype: object"
      ]
     },
     "execution_count": 9,
     "metadata": {},
     "output_type": "execute_result"
    }
   ],
   "source": [
    "cse_cic_ids2018_20022018_columns[~cse_cic_ids2018_20022018_columns.isin(cse_cic_ids2018_typical_columns)]"
   ]
  },
  {
   "cell_type": "code",
   "execution_count": 10,
   "id": "7f176dba-7ba2-4735-975d-cecea0cd0db5",
   "metadata": {},
   "outputs": [],
   "source": [
    "#drop the first four columns of each row and save it to a new csv file. At the same time, let us fix the typo \"Thuesday\"\n",
    "with open('D:/NCI/Practicum2/dataset/CSE-CIC-IDS2018/Processed Traffic Data for ML Algorithms/Thuesday-20-02-2018_TrafficForML_CICFlowMeter.csv', 'r') as source, \\\n",
    "    open('D:/NCI/Practicum2/dataset/CSE-CIC-IDS2018/Processed Traffic Data for ML Algorithms/Tuesday-20-02-2018_TrafficForML_CICFlowMeter_dropped_first_four_columns.csv', 'w') as result:\n",
    "\n",
    "    original_dataset = csv.reader(source)\n",
    "    writer = csv.writer(result)\n",
    "\n",
    "    for row in original_dataset:\n",
    "        # exclude the first 4 columns when writing the file\n",
    "        writer.writerow((row[4:]))"
   ]
  },
  {
   "cell_type": "markdown",
   "id": "bd582ce3-f2db-47c2-9051-33a85354ff64",
   "metadata": {},
   "source": [
    "Load the processed file to ensure the problem has been addressed"
   ]
  },
  {
   "cell_type": "code",
   "execution_count": 11,
   "id": "77b754bd-c0ea-40e7-8ed7-bd2284167e84",
   "metadata": {},
   "outputs": [
    {
     "name": "stdout",
     "output_type": "stream",
     "text": [
      "(10, 80)\n",
      "Index(['Dst Port', 'Protocol', 'Timestamp', 'Flow Duration', 'Tot Fwd Pkts',\n",
      "       'Tot Bwd Pkts', 'TotLen Fwd Pkts', 'TotLen Bwd Pkts', 'Fwd Pkt Len Max',\n",
      "       'Fwd Pkt Len Min', 'Fwd Pkt Len Mean', 'Fwd Pkt Len Std',\n",
      "       'Bwd Pkt Len Max', 'Bwd Pkt Len Min', 'Bwd Pkt Len Mean',\n",
      "       'Bwd Pkt Len Std', 'Flow Byts/s', 'Flow Pkts/s', 'Flow IAT Mean',\n",
      "       'Flow IAT Std', 'Flow IAT Max', 'Flow IAT Min', 'Fwd IAT Tot',\n",
      "       'Fwd IAT Mean', 'Fwd IAT Std', 'Fwd IAT Max', 'Fwd IAT Min',\n",
      "       'Bwd IAT Tot', 'Bwd IAT Mean', 'Bwd IAT Std', 'Bwd IAT Max',\n",
      "       'Bwd IAT Min', 'Fwd PSH Flags', 'Bwd PSH Flags', 'Fwd URG Flags',\n",
      "       'Bwd URG Flags', 'Fwd Header Len', 'Bwd Header Len', 'Fwd Pkts/s',\n",
      "       'Bwd Pkts/s', 'Pkt Len Min', 'Pkt Len Max', 'Pkt Len Mean',\n",
      "       'Pkt Len Std', 'Pkt Len Var', 'FIN Flag Cnt', 'SYN Flag Cnt',\n",
      "       'RST Flag Cnt', 'PSH Flag Cnt', 'ACK Flag Cnt', 'URG Flag Cnt',\n",
      "       'CWE Flag Count', 'ECE Flag Cnt', 'Down/Up Ratio', 'Pkt Size Avg',\n",
      "       'Fwd Seg Size Avg', 'Bwd Seg Size Avg', 'Fwd Byts/b Avg',\n",
      "       'Fwd Pkts/b Avg', 'Fwd Blk Rate Avg', 'Bwd Byts/b Avg',\n",
      "       'Bwd Pkts/b Avg', 'Bwd Blk Rate Avg', 'Subflow Fwd Pkts',\n",
      "       'Subflow Fwd Byts', 'Subflow Bwd Pkts', 'Subflow Bwd Byts',\n",
      "       'Init Fwd Win Byts', 'Init Bwd Win Byts', 'Fwd Act Data Pkts',\n",
      "       'Fwd Seg Size Min', 'Active Mean', 'Active Std', 'Active Max',\n",
      "       'Active Min', 'Idle Mean', 'Idle Std', 'Idle Max', 'Idle Min', 'Label'],\n",
      "      dtype='object')\n"
     ]
    }
   ],
   "source": [
    "cse_cic_ids2018_20022018 = pd.read_csv('D:/NCI/Practicum2/dataset/CSE-CIC-IDS2018/Processed Traffic Data for ML Algorithms/Tuesday-20-02-2018_TrafficForML_CICFlowMeter_dropped_first_four_columns.csv', nrows=10)\n",
    "print(cse_cic_ids2018_20022018.shape)\n",
    "print(cse_cic_ids2018_20022018.columns)"
   ]
  },
  {
   "cell_type": "markdown",
   "id": "7bc01733-d06b-4864-bd5f-45112c58bcc8",
   "metadata": {},
   "source": [
    "Combine the files of the dataset"
   ]
  },
  {
   "cell_type": "code",
   "execution_count": 12,
   "id": "d9101997-542c-499c-b26f-856082a439cd",
   "metadata": {},
   "outputs": [],
   "source": [
    "dataset = 'CSE-CIC-IDS2018'\n",
    "dataset_csv_files = ('Friday-02-03-2018_TrafficForML_CICFlowMeter',\n",
    "                    'Friday-16-02-2018_TrafficForML_CICFlowMeter',\n",
    "                    'Friday-23-02-2018_TrafficForML_CICFlowMeter',\n",
    "                    'Tuesday-20-02-2018_TrafficForML_CICFlowMeter_dropped_first_four_columns',\n",
    "                    'Thursday-01-03-2018_TrafficForML_CICFlowMeter',\n",
    "                    'Thursday-15-02-2018_TrafficForML_CICFlowMeter',\n",
    "                    'Thursday-22-02-2018_TrafficForML_CICFlowMeter',\n",
    "                    'Wednesday-14-02-2018_TrafficForML_CICFlowMeter',\n",
    "                    'Wednesday-21-02-2018_TrafficForML_CICFlowMeter',\n",
    "                    'Wednesday-28-02-2018_TrafficForML_CICFlowMeter')"
   ]
  },
  {
   "cell_type": "code",
   "execution_count": 13,
   "id": "0f1ecc51-a784-4a07-9966-022c5a76ab14",
   "metadata": {},
   "outputs": [],
   "source": [
    "# Define the function to combine seperate files of a dataset\n",
    "# Besides combining the files, it has two additional functionality:\n",
    "# 1. Replace the replacement character (\\uFFFD) with '-', which is needed for the CIC-IDS2017 dataset\n",
    "# 2. Down sample the dataset. If the reduce_sample_size parameter is set to true, \n",
    "#    only 10% of the dataset will be randomly selected and saved. \n",
    "def combine_csv_files(dataset: str, file_names: tuple, reduce_sample_size: bool = False):\n",
    "\n",
    "    # create a new directory to place the combined dataset\n",
    "    os.makedirs('./dataset/dataset_combined', exist_ok=True)\n",
    "    # remove the dataset if it already exist\n",
    "    merged_dataset_directory = f'dataset/dataset_combined/{dataset}.csv'\n",
    "    if os.path.isfile(merged_dataset_directory):\n",
    "        os.remove(merged_dataset_directory)\n",
    "        print(f'original file({merged_dataset_directory}) has been removed')\n",
    "\n",
    "    for (file_index, file_name) in enumerate(file_names):\n",
    "        with open(f\"D:/NCI/Practicum2/dataset/{dataset}/Processed Traffic Data for ML Algorithms/{file_name}.csv\", 'r') as file, open(merged_dataset_directory, 'a') as out_file:\n",
    "            for (line_index, line) in enumerate(file):\n",
    "                # only the header of the first file will be taken\n",
    "                if 'Label' in line or 'label' in line:\n",
    "                    if file_index != 0 or line_index != 0:\n",
    "                        continue\n",
    "                elif reduce_sample_size:\n",
    "                    if random.randint(1, 10) > 1:\n",
    "                        continue\n",
    "                # replace the replacement character (\\uFFFD) with '-' if exist     \n",
    "                out_file.write(line.replace(' ï¿½ ', '-'))\n",
    "                "
   ]
  },
  {
   "cell_type": "code",
   "execution_count": 14,
   "id": "e618ad44-a655-481b-8608-b85a132359a0",
   "metadata": {},
   "outputs": [
    {
     "name": "stdout",
     "output_type": "stream",
     "text": [
      "original file(dataset/dataset_combined/CSE-CIC-IDS2018.csv) has been removed\n"
     ]
    }
   ],
   "source": [
    "combine_csv_files(dataset, dataset_csv_files, reduce_sample_size=True)"
   ]
  },
  {
   "cell_type": "markdown",
   "id": "12ebf220-2d6f-4e2f-8129-e46ccc4512e5",
   "metadata": {},
   "source": [
    "preliminary analysis"
   ]
  },
  {
   "cell_type": "code",
   "execution_count": 15,
   "id": "22ca69c5-411e-4881-8a96-150ae99ef910",
   "metadata": {},
   "outputs": [
    {
     "data": {
      "text/html": [
       "<div>\n",
       "<style scoped>\n",
       "    .dataframe tbody tr th:only-of-type {\n",
       "        vertical-align: middle;\n",
       "    }\n",
       "\n",
       "    .dataframe tbody tr th {\n",
       "        vertical-align: top;\n",
       "    }\n",
       "\n",
       "    .dataframe thead th {\n",
       "        text-align: right;\n",
       "    }\n",
       "</style>\n",
       "<table border=\"1\" class=\"dataframe\">\n",
       "  <thead>\n",
       "    <tr style=\"text-align: right;\">\n",
       "      <th></th>\n",
       "      <th>Dst Port</th>\n",
       "      <th>Protocol</th>\n",
       "      <th>Timestamp</th>\n",
       "      <th>Flow Duration</th>\n",
       "      <th>Tot Fwd Pkts</th>\n",
       "      <th>Tot Bwd Pkts</th>\n",
       "      <th>TotLen Fwd Pkts</th>\n",
       "      <th>TotLen Bwd Pkts</th>\n",
       "      <th>Fwd Pkt Len Max</th>\n",
       "      <th>Fwd Pkt Len Min</th>\n",
       "      <th>...</th>\n",
       "      <th>Fwd Seg Size Min</th>\n",
       "      <th>Active Mean</th>\n",
       "      <th>Active Std</th>\n",
       "      <th>Active Max</th>\n",
       "      <th>Active Min</th>\n",
       "      <th>Idle Mean</th>\n",
       "      <th>Idle Std</th>\n",
       "      <th>Idle Max</th>\n",
       "      <th>Idle Min</th>\n",
       "      <th>Label</th>\n",
       "    </tr>\n",
       "  </thead>\n",
       "  <tbody>\n",
       "    <tr>\n",
       "      <th>0</th>\n",
       "      <td>49684</td>\n",
       "      <td>6</td>\n",
       "      <td>02/03/2018 08:47:38</td>\n",
       "      <td>281</td>\n",
       "      <td>2</td>\n",
       "      <td>1</td>\n",
       "      <td>38.0</td>\n",
       "      <td>0.0</td>\n",
       "      <td>38.0</td>\n",
       "      <td>0.0</td>\n",
       "      <td>...</td>\n",
       "      <td>20</td>\n",
       "      <td>0.0000</td>\n",
       "      <td>0.00000</td>\n",
       "      <td>0.0</td>\n",
       "      <td>0.0</td>\n",
       "      <td>0.0</td>\n",
       "      <td>0.00000</td>\n",
       "      <td>0.0</td>\n",
       "      <td>0.0</td>\n",
       "      <td>Benign</td>\n",
       "    </tr>\n",
       "    <tr>\n",
       "      <th>1</th>\n",
       "      <td>443</td>\n",
       "      <td>6</td>\n",
       "      <td>02/03/2018 08:47:41</td>\n",
       "      <td>250</td>\n",
       "      <td>2</td>\n",
       "      <td>0</td>\n",
       "      <td>0.0</td>\n",
       "      <td>0.0</td>\n",
       "      <td>0.0</td>\n",
       "      <td>0.0</td>\n",
       "      <td>...</td>\n",
       "      <td>20</td>\n",
       "      <td>0.0000</td>\n",
       "      <td>0.00000</td>\n",
       "      <td>0.0</td>\n",
       "      <td>0.0</td>\n",
       "      <td>0.0</td>\n",
       "      <td>0.00000</td>\n",
       "      <td>0.0</td>\n",
       "      <td>0.0</td>\n",
       "      <td>Benign</td>\n",
       "    </tr>\n",
       "    <tr>\n",
       "      <th>2</th>\n",
       "      <td>443</td>\n",
       "      <td>6</td>\n",
       "      <td>02/03/2018 08:47:40</td>\n",
       "      <td>60860062</td>\n",
       "      <td>15</td>\n",
       "      <td>13</td>\n",
       "      <td>870.0</td>\n",
       "      <td>3306.0</td>\n",
       "      <td>535.0</td>\n",
       "      <td>0.0</td>\n",
       "      <td>...</td>\n",
       "      <td>20</td>\n",
       "      <td>130201.6667</td>\n",
       "      <td>148831.65440</td>\n",
       "      <td>434003.0</td>\n",
       "      <td>69408.0</td>\n",
       "      <td>10000000.0</td>\n",
       "      <td>16330.68406</td>\n",
       "      <td>10000000.0</td>\n",
       "      <td>9968389.0</td>\n",
       "      <td>Benign</td>\n",
       "    </tr>\n",
       "    <tr>\n",
       "      <th>3</th>\n",
       "      <td>443</td>\n",
       "      <td>6</td>\n",
       "      <td>02/03/2018 08:47:38</td>\n",
       "      <td>118281864</td>\n",
       "      <td>36</td>\n",
       "      <td>83</td>\n",
       "      <td>1022.0</td>\n",
       "      <td>108156.0</td>\n",
       "      <td>250.0</td>\n",
       "      <td>0.0</td>\n",
       "      <td>...</td>\n",
       "      <td>20</td>\n",
       "      <td>134521.0000</td>\n",
       "      <td>79961.04903</td>\n",
       "      <td>191062.0</td>\n",
       "      <td>77980.0</td>\n",
       "      <td>59000000.0</td>\n",
       "      <td>44452.97491</td>\n",
       "      <td>59000000.0</td>\n",
       "      <td>58900000.0</td>\n",
       "      <td>Benign</td>\n",
       "    </tr>\n",
       "    <tr>\n",
       "      <th>4</th>\n",
       "      <td>49745</td>\n",
       "      <td>6</td>\n",
       "      <td>02/03/2018 08:51:24</td>\n",
       "      <td>96328</td>\n",
       "      <td>2</td>\n",
       "      <td>1</td>\n",
       "      <td>38.0</td>\n",
       "      <td>0.0</td>\n",
       "      <td>38.0</td>\n",
       "      <td>0.0</td>\n",
       "      <td>...</td>\n",
       "      <td>20</td>\n",
       "      <td>0.0000</td>\n",
       "      <td>0.00000</td>\n",
       "      <td>0.0</td>\n",
       "      <td>0.0</td>\n",
       "      <td>0.0</td>\n",
       "      <td>0.00000</td>\n",
       "      <td>0.0</td>\n",
       "      <td>0.0</td>\n",
       "      <td>Benign</td>\n",
       "    </tr>\n",
       "  </tbody>\n",
       "</table>\n",
       "<p>5 rows × 80 columns</p>\n",
       "</div>"
      ],
      "text/plain": [
       "   Dst Port  Protocol            Timestamp  Flow Duration  Tot Fwd Pkts  \\\n",
       "0     49684         6  02/03/2018 08:47:38            281             2   \n",
       "1       443         6  02/03/2018 08:47:41            250             2   \n",
       "2       443         6  02/03/2018 08:47:40       60860062            15   \n",
       "3       443         6  02/03/2018 08:47:38      118281864            36   \n",
       "4     49745         6  02/03/2018 08:51:24          96328             2   \n",
       "\n",
       "   Tot Bwd Pkts  TotLen Fwd Pkts  TotLen Bwd Pkts  Fwd Pkt Len Max  \\\n",
       "0             1             38.0              0.0             38.0   \n",
       "1             0              0.0              0.0              0.0   \n",
       "2            13            870.0           3306.0            535.0   \n",
       "3            83           1022.0         108156.0            250.0   \n",
       "4             1             38.0              0.0             38.0   \n",
       "\n",
       "   Fwd Pkt Len Min  ...  Fwd Seg Size Min  Active Mean    Active Std  \\\n",
       "0              0.0  ...                20       0.0000       0.00000   \n",
       "1              0.0  ...                20       0.0000       0.00000   \n",
       "2              0.0  ...                20  130201.6667  148831.65440   \n",
       "3              0.0  ...                20  134521.0000   79961.04903   \n",
       "4              0.0  ...                20       0.0000       0.00000   \n",
       "\n",
       "   Active Max  Active Min   Idle Mean     Idle Std    Idle Max    Idle Min  \\\n",
       "0         0.0         0.0         0.0      0.00000         0.0         0.0   \n",
       "1         0.0         0.0         0.0      0.00000         0.0         0.0   \n",
       "2    434003.0     69408.0  10000000.0  16330.68406  10000000.0   9968389.0   \n",
       "3    191062.0     77980.0  59000000.0  44452.97491  59000000.0  58900000.0   \n",
       "4         0.0         0.0         0.0      0.00000         0.0         0.0   \n",
       "\n",
       "    Label  \n",
       "0  Benign  \n",
       "1  Benign  \n",
       "2  Benign  \n",
       "3  Benign  \n",
       "4  Benign  \n",
       "\n",
       "[5 rows x 80 columns]"
      ]
     },
     "execution_count": 15,
     "metadata": {},
     "output_type": "execute_result"
    }
   ],
   "source": [
    "# load the dataset into one DataFrame\n",
    "cse_cic_ids2018 = pd.read_csv('dataset/dataset_combined/CSE-CIC-IDS2018.csv')\n",
    "cse_cic_ids2018.head()"
   ]
  },
  {
   "cell_type": "code",
   "execution_count": 16,
   "id": "706d3ec1-9961-4e1b-ae2f-aa0187aced7a",
   "metadata": {},
   "outputs": [
    {
     "name": "stdout",
     "output_type": "stream",
     "text": [
      "Number of rows: 1622580\n",
      "Number of columns: 80\n"
     ]
    }
   ],
   "source": [
    "print(f\"Number of rows: {cse_cic_ids2018.shape[0]}\")\n",
    "print(f\"Number of columns: {cse_cic_ids2018.shape[1]}\")"
   ]
  },
  {
   "cell_type": "code",
   "execution_count": 17,
   "id": "87d7ac8f-2680-4041-b510-d56ef07144d7",
   "metadata": {},
   "outputs": [
    {
     "name": "stdout",
     "output_type": "stream",
     "text": [
      "Columns in the dataset:\n"
     ]
    },
    {
     "data": {
      "text/plain": [
       "Index(['Dst Port', 'Protocol', 'Timestamp', 'Flow Duration', 'Tot Fwd Pkts',\n",
       "       'Tot Bwd Pkts', 'TotLen Fwd Pkts', 'TotLen Bwd Pkts', 'Fwd Pkt Len Max',\n",
       "       'Fwd Pkt Len Min', 'Fwd Pkt Len Mean', 'Fwd Pkt Len Std',\n",
       "       'Bwd Pkt Len Max', 'Bwd Pkt Len Min', 'Bwd Pkt Len Mean',\n",
       "       'Bwd Pkt Len Std', 'Flow Byts/s', 'Flow Pkts/s', 'Flow IAT Mean',\n",
       "       'Flow IAT Std', 'Flow IAT Max', 'Flow IAT Min', 'Fwd IAT Tot',\n",
       "       'Fwd IAT Mean', 'Fwd IAT Std', 'Fwd IAT Max', 'Fwd IAT Min',\n",
       "       'Bwd IAT Tot', 'Bwd IAT Mean', 'Bwd IAT Std', 'Bwd IAT Max',\n",
       "       'Bwd IAT Min', 'Fwd PSH Flags', 'Bwd PSH Flags', 'Fwd URG Flags',\n",
       "       'Bwd URG Flags', 'Fwd Header Len', 'Bwd Header Len', 'Fwd Pkts/s',\n",
       "       'Bwd Pkts/s', 'Pkt Len Min', 'Pkt Len Max', 'Pkt Len Mean',\n",
       "       'Pkt Len Std', 'Pkt Len Var', 'FIN Flag Cnt', 'SYN Flag Cnt',\n",
       "       'RST Flag Cnt', 'PSH Flag Cnt', 'ACK Flag Cnt', 'URG Flag Cnt',\n",
       "       'CWE Flag Count', 'ECE Flag Cnt', 'Down/Up Ratio', 'Pkt Size Avg',\n",
       "       'Fwd Seg Size Avg', 'Bwd Seg Size Avg', 'Fwd Byts/b Avg',\n",
       "       'Fwd Pkts/b Avg', 'Fwd Blk Rate Avg', 'Bwd Byts/b Avg',\n",
       "       'Bwd Pkts/b Avg', 'Bwd Blk Rate Avg', 'Subflow Fwd Pkts',\n",
       "       'Subflow Fwd Byts', 'Subflow Bwd Pkts', 'Subflow Bwd Byts',\n",
       "       'Init Fwd Win Byts', 'Init Bwd Win Byts', 'Fwd Act Data Pkts',\n",
       "       'Fwd Seg Size Min', 'Active Mean', 'Active Std', 'Active Max',\n",
       "       'Active Min', 'Idle Mean', 'Idle Std', 'Idle Max', 'Idle Min', 'Label'],\n",
       "      dtype='object')"
      ]
     },
     "execution_count": 17,
     "metadata": {},
     "output_type": "execute_result"
    }
   ],
   "source": [
    "print(\"Columns in the dataset:\")\n",
    "cse_cic_ids2018.columns"
   ]
  },
  {
   "cell_type": "code",
   "execution_count": 18,
   "id": "3fde1d9e-4fcf-4864-aaba-e22e344ce2de",
   "metadata": {},
   "outputs": [
    {
     "name": "stdout",
     "output_type": "stream",
     "text": [
      "Class distribution:\n"
     ]
    },
    {
     "data": {
      "text/plain": [
       "Label\n",
       "Benign                      1347953\n",
       "DDOS attack-HOIC              68801\n",
       "DDoS attacks-LOIC-HTTP        57550\n",
       "DoS attacks-Hulk              46014\n",
       "Bot                           28539\n",
       "FTP-BruteForce                19484\n",
       "SSH-Bruteforce                18485\n",
       "Infilteration                 16160\n",
       "DoS attacks-SlowHTTPTest      14110\n",
       "DoS attacks-GoldenEye          4154\n",
       "DoS attacks-Slowloris          1076\n",
       "DDOS attack-LOIC-UDP            163\n",
       "Brute Force -Web                 59\n",
       "Brute Force -XSS                 25\n",
       "SQL Injection                     7\n",
       "Name: count, dtype: int64"
      ]
     },
     "execution_count": 18,
     "metadata": {},
     "output_type": "execute_result"
    }
   ],
   "source": [
    "print('Class distribution:')\n",
    "cse_cic_ids2018['Label'].value_counts()"
   ]
  },
  {
   "cell_type": "code",
   "execution_count": 19,
   "id": "b4ef7618-9cc5-4ece-8274-925d742e058d",
   "metadata": {},
   "outputs": [
    {
     "name": "stdout",
     "output_type": "stream",
     "text": [
      "Class distribution (normalized):\n"
     ]
    },
    {
     "data": {
      "text/plain": [
       "Label\n",
       "Benign                      83.074671\n",
       "DDOS attack-HOIC             4.240222\n",
       "DDoS attacks-LOIC-HTTP       3.546820\n",
       "DoS attacks-Hulk             2.835854\n",
       "Bot                          1.758866\n",
       "FTP-BruteForce               1.200804\n",
       "SSH-Bruteforce               1.139235\n",
       "Infilteration                0.995945\n",
       "DoS attacks-SlowHTTPTest     0.869603\n",
       "DoS attacks-GoldenEye        0.256012\n",
       "DoS attacks-Slowloris        0.066314\n",
       "DDOS attack-LOIC-UDP         0.010046\n",
       "Brute Force -Web             0.003636\n",
       "Brute Force -XSS             0.001541\n",
       "SQL Injection                0.000431\n",
       "Name: count, dtype: float64"
      ]
     },
     "execution_count": 19,
     "metadata": {},
     "output_type": "execute_result"
    }
   ],
   "source": [
    "print('Class distribution (normalized):')\n",
    "cse_cic_ids2018['Label'].value_counts()/cse_cic_ids2018.shape[0]*100"
   ]
  },
  {
   "cell_type": "markdown",
   "id": "138599bb-523f-4316-a024-43937e9ea903",
   "metadata": {},
   "source": [
    "Check for null values"
   ]
  },
  {
   "cell_type": "code",
   "execution_count": 20,
   "id": "d2953827-0aaf-49f2-8cbb-67ccbf49c7ee",
   "metadata": {},
   "outputs": [
    {
     "name": "stdout",
     "output_type": "stream",
     "text": [
      "Rows contain null value: \n",
      "Flow Byts/s    5975\n",
      "dtype: int64\n",
      "\n",
      "Rows contain null value (percentage): \n",
      "Flow Byts/s    0.368241\n",
      "dtype: float64\n",
      "\n"
     ]
    }
   ],
   "source": [
    "cse_cic_ids2018_null_count = cse_cic_ids2018.isnull().sum()\n",
    "cse_cic_ids2018_null_count = cse_cic_ids2018_null_count[cse_cic_ids2018_null_count > 0]\n",
    "print(f\"Rows contain null value: \\n{cse_cic_ids2018_null_count}\\n\")\n",
    "\n",
    "cse_cic_ids2018_null_count = cse_cic_ids2018_null_count / cse_cic_ids2018.shape[0] * 100\n",
    "print(f\"Rows contain null value (percentage): \\n{cse_cic_ids2018_null_count}\\n\")"
   ]
  },
  {
   "cell_type": "markdown",
   "id": "7954cd8a-4b44-4518-a5f6-00e9c341ab9f",
   "metadata": {},
   "source": [
    "Check for infinity value"
   ]
  },
  {
   "cell_type": "code",
   "execution_count": 21,
   "id": "4049d34f-7ceb-461f-b5e5-9b0e1c0ec8ad",
   "metadata": {},
   "outputs": [
    {
     "name": "stdout",
     "output_type": "stream",
     "text": [
      "Number of rows includes infinity value: 9539; 0.59% of rows\n"
     ]
    }
   ],
   "source": [
    "inf_count = np.isinf(cse_cic_ids2018.iloc[:, 3:-1]).any(axis=1).sum()\n",
    "print(f'Number of rows includes infinity value: {inf_count}; {inf_count/cse_cic_ids2018.shape[0]*100:.2f}% of rows')"
   ]
  },
  {
   "cell_type": "markdown",
   "id": "279d1764-d8cd-4fd0-861f-c3993e569efb",
   "metadata": {},
   "source": [
    "Check for columns that contain string values"
   ]
  },
  {
   "cell_type": "code",
   "execution_count": 22,
   "id": "960a3f59-d577-47c5-a20a-650e7370a941",
   "metadata": {},
   "outputs": [
    {
     "data": {
      "text/plain": [
       "Timestamp    object\n",
       "Label        object\n",
       "dtype: object"
      ]
     },
     "execution_count": 22,
     "metadata": {},
     "output_type": "execute_result"
    }
   ],
   "source": [
    "cse_cic_ids2018.dtypes[(cse_cic_ids2018.dtypes != 'int64') & (cse_cic_ids2018.dtypes != 'float64')]"
   ]
  },
  {
   "cell_type": "code",
   "execution_count": 23,
   "id": "161e51fc-da7e-4713-a332-5fb5ded4f0f9",
   "metadata": {},
   "outputs": [
    {
     "data": {
      "text/plain": [
       "array(['Benign', 'Bot', 'DoS attacks-SlowHTTPTest', 'DoS attacks-Hulk',\n",
       "       'Brute Force -Web', 'Brute Force -XSS', 'SQL Injection',\n",
       "       'DDoS attacks-LOIC-HTTP', 'Infilteration', 'DoS attacks-GoldenEye',\n",
       "       'DoS attacks-Slowloris', 'FTP-BruteForce', 'SSH-Bruteforce',\n",
       "       'DDOS attack-LOIC-UDP', 'DDOS attack-HOIC'], dtype=object)"
      ]
     },
     "execution_count": 23,
     "metadata": {},
     "output_type": "execute_result"
    }
   ],
   "source": [
    "cse_cic_ids2018['Label'].unique()"
   ]
  },
  {
   "cell_type": "code",
   "execution_count": 24,
   "id": "cb2bceb6-a324-4e15-b0e9-b37e83c82cfa",
   "metadata": {},
   "outputs": [
    {
     "data": {
      "text/plain": [
       "0          02/03/2018 08:47:38\n",
       "1          02/03/2018 08:47:41\n",
       "2          02/03/2018 08:47:40\n",
       "3          02/03/2018 08:47:38\n",
       "4          02/03/2018 08:51:24\n",
       "                  ...         \n",
       "1622575    28/02/2018 01:48:05\n",
       "1622576    28/02/2018 02:23:17\n",
       "1622577    28/02/2018 04:05:10\n",
       "1622578    28/02/2018 11:12:19\n",
       "1622579    28/02/2018 01:48:05\n",
       "Name: Timestamp, Length: 1622580, dtype: object"
      ]
     },
     "execution_count": 24,
     "metadata": {},
     "output_type": "execute_result"
    }
   ],
   "source": [
    "cse_cic_ids2018['Timestamp']"
   ]
  },
  {
   "cell_type": "markdown",
   "id": "73515853-c39e-41b9-909e-41bf71a39fe5",
   "metadata": {},
   "source": [
    "Check for duplicates\n"
   ]
  },
  {
   "cell_type": "code",
   "execution_count": 25,
   "id": "71f52acd-9c6c-4bb1-9d5a-c32dbd2a41d6",
   "metadata": {},
   "outputs": [
    {
     "data": {
      "text/plain": [
       "Index([], dtype='object')"
      ]
     },
     "execution_count": 25,
     "metadata": {},
     "output_type": "execute_result"
    }
   ],
   "source": [
    "cse_cic_ids2018.columns[cse_cic_ids2018.columns.value_counts() > 1]"
   ]
  },
  {
   "cell_type": "code",
   "execution_count": 26,
   "id": "be9375c6-1c30-4d4a-ad25-ca82d5dc5243",
   "metadata": {},
   "outputs": [
    {
     "name": "stdout",
     "output_type": "stream",
     "text": [
      "number of duplicated rows: 17140\n",
      "1.06% of rows are duplicates\n"
     ]
    }
   ],
   "source": [
    "cse_cic_ids2018_duplicates = cse_cic_ids2018[cse_cic_ids2018.duplicated()]\n",
    "print(f\"number of duplicated rows: {cse_cic_ids2018_duplicates.shape[0]}\")\n",
    "print(f\"{cse_cic_ids2018_duplicates.shape[0]/cse_cic_ids2018.shape[0]*100:.2f}% of rows are duplicates\")"
   ]
  },
  {
   "cell_type": "markdown",
   "id": "e9e41e0c-c664-4ae8-85d3-d9948e35366d",
   "metadata": {},
   "source": [
    "### Dataset cleaning"
   ]
  },
  {
   "cell_type": "code",
   "execution_count": 27,
   "id": "1d16be0d-86ed-4376-9422-cc5c0e806d02",
   "metadata": {},
   "outputs": [
    {
     "data": {
      "text/plain": [
       "(1613041, 80)"
      ]
     },
     "execution_count": 27,
     "metadata": {},
     "output_type": "execute_result"
    }
   ],
   "source": [
    "# remove rows with null and infinity value\n",
    "with pd.option_context('mode.use_inf_as_na', True):\n",
    "    cse_cic_ids2018 = cse_cic_ids2018.dropna(how='any')\n",
    "\n",
    "cse_cic_ids2018.shape"
   ]
  },
  {
   "cell_type": "code",
   "execution_count": 28,
   "id": "c39c5cb7-ca12-44ca-95e2-4667db7d2ba0",
   "metadata": {},
   "outputs": [
    {
     "data": {
      "text/plain": [
       "(1595913, 80)"
      ]
     },
     "execution_count": 28,
     "metadata": {},
     "output_type": "execute_result"
    }
   ],
   "source": [
    "cse_cic_ids2018 = cse_cic_ids2018.drop_duplicates()\n",
    "cse_cic_ids2018.shape"
   ]
  },
  {
   "cell_type": "markdown",
   "id": "ff6c0fea-0cea-4dc6-8cf1-3807b44a67d8",
   "metadata": {},
   "source": [
    "### Dataset preparation\n",
    "1. CSE-CIC-IDS2018 dataset will be downsampled and all attack samples will be labeled as 'malicious'"
   ]
  },
  {
   "cell_type": "code",
   "execution_count": 29,
   "id": "a8c90fd6-3956-4661-8800-b466a66011d0",
   "metadata": {},
   "outputs": [
    {
     "data": {
      "text/plain": [
       "Label\n",
       "Benign                      1338122\n",
       "DDOS attack-HOIC              68628\n",
       "DDoS attacks-LOIC-HTTP        57550\n",
       "DoS attacks-Hulk              45691\n",
       "Bot                           28501\n",
       "SSH-Bruteforce                16312\n",
       "Infilteration                 16034\n",
       "FTP-BruteForce                12368\n",
       "DoS attacks-SlowHTTPTest       7251\n",
       "DoS attacks-GoldenEye          4153\n",
       "DoS attacks-Slowloris          1049\n",
       "DDOS attack-LOIC-UDP            163\n",
       "Brute Force -Web                 59\n",
       "Brute Force -XSS                 25\n",
       "SQL Injection                     7\n",
       "Name: count, dtype: int64"
      ]
     },
     "execution_count": 29,
     "metadata": {},
     "output_type": "execute_result"
    }
   ],
   "source": [
    "# get the number of sample for each class\n",
    "sample_count_per_class = cse_cic_ids2018['Label'].value_counts()\n",
    "sample_count_per_class"
   ]
  },
  {
   "cell_type": "code",
   "execution_count": 30,
   "id": "7ead0567-0768-4609-a4d9-6f96ccded58c",
   "metadata": {},
   "outputs": [],
   "source": [
    "def downsample_dataset(dataset: pd.DataFrame, sample_count_per_class: pd.Series, max_sample: int) -> pd.DataFrame:\n",
    "    dataset_downsampled = pd.DataFrame()\n",
    "    for label, count in sample_count_per_class.items():\n",
    "\n",
    "        # set the upper bound\n",
    "        if count > max_sample:\n",
    "            sample_size = max_sample\n",
    "        else:\n",
    "            sample_size = count\n",
    "\n",
    "        sample = dataset[dataset['Label'] == label].sample(n=sample_size).reset_index(drop=True)\n",
    "        dataset_downsampled = pd.concat([dataset_downsampled, sample])\n",
    "    \n",
    "    return dataset_downsampled"
   ]
  },
  {
   "cell_type": "code",
   "execution_count": 31,
   "id": "e2fe8398-fc5f-4a84-b5d2-0e9846b619b9",
   "metadata": {},
   "outputs": [
    {
     "name": "stdout",
     "output_type": "stream",
     "text": [
      "Distribution of class after downsampling\n"
     ]
    },
    {
     "data": {
      "text/plain": [
       "Label\n",
       "Benign                      257791\n",
       "DDOS attack-HOIC             68628\n",
       "DDoS attacks-LOIC-HTTP       57550\n",
       "DoS attacks-Hulk             45691\n",
       "Bot                          28501\n",
       "SSH-Bruteforce               16312\n",
       "Infilteration                16034\n",
       "FTP-BruteForce               12368\n",
       "DoS attacks-SlowHTTPTest      7251\n",
       "DoS attacks-GoldenEye         4153\n",
       "DoS attacks-Slowloris         1049\n",
       "DDOS attack-LOIC-UDP           163\n",
       "Brute Force -Web                59\n",
       "Brute Force -XSS                25\n",
       "SQL Injection                    7\n",
       "Name: count, dtype: int64"
      ]
     },
     "execution_count": 31,
     "metadata": {},
     "output_type": "execute_result"
    }
   ],
   "source": [
    "ids2018_attack = downsample_dataset(cse_cic_ids2018, sample_count_per_class[1:], max_sample=100000)\n",
    "num_attack_sample = ids2018_attack.shape[0]\n",
    "ids2018_benign = cse_cic_ids2018[cse_cic_ids2018['Label'] == 'Benign'].sample(n=num_attack_sample).reset_index(drop=True)\n",
    "ids2018_downsampled = pd.concat([ids2018_attack, ids2018_benign])\n",
    "del ids2018_attack\n",
    "del ids2018_benign\n",
    "\n",
    "print('Distribution of class after downsampling')\n",
    "ids2018_downsampled['Label'].value_counts()"
   ]
  },
  {
   "cell_type": "code",
   "execution_count": 32,
   "id": "92cb3362-0266-42ab-95e2-9958036fb17b",
   "metadata": {},
   "outputs": [
    {
     "name": "stdout",
     "output_type": "stream",
     "text": [
      "Class distribution (normalized):\n"
     ]
    },
    {
     "data": {
      "text/plain": [
       "Label\n",
       "Benign                      50.000000\n",
       "DDOS attack-HOIC            13.310783\n",
       "DDoS attacks-LOIC-HTTP      11.162143\n",
       "DoS attacks-Hulk             8.862024\n",
       "Bot                          5.527928\n",
       "SSH-Bruteforce               3.163803\n",
       "Infilteration                3.109884\n",
       "FTP-BruteForce               2.398842\n",
       "DoS attacks-SlowHTTPTest     1.406372\n",
       "DoS attacks-GoldenEye        0.805497\n",
       "DoS attacks-Slowloris        0.203459\n",
       "DDOS attack-LOIC-UDP         0.031615\n",
       "Brute Force -Web             0.011443\n",
       "Brute Force -XSS             0.004849\n",
       "SQL Injection                0.001358\n",
       "Name: count, dtype: float64"
      ]
     },
     "execution_count": 32,
     "metadata": {},
     "output_type": "execute_result"
    }
   ],
   "source": [
    "print('Class distribution (normalized):')\n",
    "ids2018_downsampled['Label'].value_counts()/ids2018_downsampled.shape[0]*100"
   ]
  },
  {
   "cell_type": "code",
   "execution_count": 33,
   "id": "aed4d9d8-c315-40f9-a365-8537de7a1b40",
   "metadata": {},
   "outputs": [
    {
     "data": {
      "text/plain": [
       "Label\n",
       "malicious    257791\n",
       "benign       257791\n",
       "Name: count, dtype: int64"
      ]
     },
     "execution_count": 33,
     "metadata": {},
     "output_type": "execute_result"
    }
   ],
   "source": [
    "# replace the label of all attack class to 'malicious'\n",
    "ids2018_downsampled.iloc[ids2018_downsampled['Label'] != 'Benign', -1] = 'malicious'\n",
    "ids2018_downsampled.iloc[ids2018_downsampled['Label'] == 'Benign', -1] = 'benign'\n",
    "ids2018_downsampled['Label'].value_counts()"
   ]
  },
  {
   "cell_type": "code",
   "execution_count": 34,
   "id": "0d4aba66-2a7e-49e1-813c-8f83f91c0e56",
   "metadata": {},
   "outputs": [
    {
     "data": {
      "text/html": [
       "<div>\n",
       "<style scoped>\n",
       "    .dataframe tbody tr th:only-of-type {\n",
       "        vertical-align: middle;\n",
       "    }\n",
       "\n",
       "    .dataframe tbody tr th {\n",
       "        vertical-align: top;\n",
       "    }\n",
       "\n",
       "    .dataframe thead th {\n",
       "        text-align: right;\n",
       "    }\n",
       "</style>\n",
       "<table border=\"1\" class=\"dataframe\">\n",
       "  <thead>\n",
       "    <tr style=\"text-align: right;\">\n",
       "      <th></th>\n",
       "      <th>Dst Port</th>\n",
       "      <th>Flow Duration</th>\n",
       "      <th>Tot Fwd Pkts</th>\n",
       "      <th>Tot Bwd Pkts</th>\n",
       "      <th>TotLen Fwd Pkts</th>\n",
       "      <th>TotLen Bwd Pkts</th>\n",
       "      <th>Fwd Pkt Len Max</th>\n",
       "      <th>Fwd Pkt Len Min</th>\n",
       "      <th>Fwd Pkt Len Mean</th>\n",
       "      <th>Fwd Pkt Len Std</th>\n",
       "      <th>...</th>\n",
       "      <th>Fwd Seg Size Min</th>\n",
       "      <th>Active Mean</th>\n",
       "      <th>Active Std</th>\n",
       "      <th>Active Max</th>\n",
       "      <th>Active Min</th>\n",
       "      <th>Idle Mean</th>\n",
       "      <th>Idle Std</th>\n",
       "      <th>Idle Max</th>\n",
       "      <th>Idle Min</th>\n",
       "      <th>Label</th>\n",
       "    </tr>\n",
       "  </thead>\n",
       "  <tbody>\n",
       "    <tr>\n",
       "      <th>0</th>\n",
       "      <td>80</td>\n",
       "      <td>1693</td>\n",
       "      <td>2</td>\n",
       "      <td>0</td>\n",
       "      <td>0.0</td>\n",
       "      <td>0.0</td>\n",
       "      <td>0.0</td>\n",
       "      <td>0.0</td>\n",
       "      <td>0.0</td>\n",
       "      <td>0.0</td>\n",
       "      <td>...</td>\n",
       "      <td>20</td>\n",
       "      <td>0.0</td>\n",
       "      <td>0.0</td>\n",
       "      <td>0.0</td>\n",
       "      <td>0.0</td>\n",
       "      <td>0.0</td>\n",
       "      <td>0.0</td>\n",
       "      <td>0.0</td>\n",
       "      <td>0.0</td>\n",
       "      <td>malicious</td>\n",
       "    </tr>\n",
       "    <tr>\n",
       "      <th>1</th>\n",
       "      <td>80</td>\n",
       "      <td>2200</td>\n",
       "      <td>2</td>\n",
       "      <td>0</td>\n",
       "      <td>0.0</td>\n",
       "      <td>0.0</td>\n",
       "      <td>0.0</td>\n",
       "      <td>0.0</td>\n",
       "      <td>0.0</td>\n",
       "      <td>0.0</td>\n",
       "      <td>...</td>\n",
       "      <td>20</td>\n",
       "      <td>0.0</td>\n",
       "      <td>0.0</td>\n",
       "      <td>0.0</td>\n",
       "      <td>0.0</td>\n",
       "      <td>0.0</td>\n",
       "      <td>0.0</td>\n",
       "      <td>0.0</td>\n",
       "      <td>0.0</td>\n",
       "      <td>malicious</td>\n",
       "    </tr>\n",
       "    <tr>\n",
       "      <th>2</th>\n",
       "      <td>80</td>\n",
       "      <td>2200</td>\n",
       "      <td>2</td>\n",
       "      <td>0</td>\n",
       "      <td>0.0</td>\n",
       "      <td>0.0</td>\n",
       "      <td>0.0</td>\n",
       "      <td>0.0</td>\n",
       "      <td>0.0</td>\n",
       "      <td>0.0</td>\n",
       "      <td>...</td>\n",
       "      <td>20</td>\n",
       "      <td>0.0</td>\n",
       "      <td>0.0</td>\n",
       "      <td>0.0</td>\n",
       "      <td>0.0</td>\n",
       "      <td>0.0</td>\n",
       "      <td>0.0</td>\n",
       "      <td>0.0</td>\n",
       "      <td>0.0</td>\n",
       "      <td>malicious</td>\n",
       "    </tr>\n",
       "    <tr>\n",
       "      <th>3</th>\n",
       "      <td>80</td>\n",
       "      <td>5743</td>\n",
       "      <td>2</td>\n",
       "      <td>0</td>\n",
       "      <td>0.0</td>\n",
       "      <td>0.0</td>\n",
       "      <td>0.0</td>\n",
       "      <td>0.0</td>\n",
       "      <td>0.0</td>\n",
       "      <td>0.0</td>\n",
       "      <td>...</td>\n",
       "      <td>20</td>\n",
       "      <td>0.0</td>\n",
       "      <td>0.0</td>\n",
       "      <td>0.0</td>\n",
       "      <td>0.0</td>\n",
       "      <td>0.0</td>\n",
       "      <td>0.0</td>\n",
       "      <td>0.0</td>\n",
       "      <td>0.0</td>\n",
       "      <td>malicious</td>\n",
       "    </tr>\n",
       "    <tr>\n",
       "      <th>4</th>\n",
       "      <td>80</td>\n",
       "      <td>8655</td>\n",
       "      <td>2</td>\n",
       "      <td>0</td>\n",
       "      <td>0.0</td>\n",
       "      <td>0.0</td>\n",
       "      <td>0.0</td>\n",
       "      <td>0.0</td>\n",
       "      <td>0.0</td>\n",
       "      <td>0.0</td>\n",
       "      <td>...</td>\n",
       "      <td>20</td>\n",
       "      <td>0.0</td>\n",
       "      <td>0.0</td>\n",
       "      <td>0.0</td>\n",
       "      <td>0.0</td>\n",
       "      <td>0.0</td>\n",
       "      <td>0.0</td>\n",
       "      <td>0.0</td>\n",
       "      <td>0.0</td>\n",
       "      <td>malicious</td>\n",
       "    </tr>\n",
       "  </tbody>\n",
       "</table>\n",
       "<p>5 rows × 78 columns</p>\n",
       "</div>"
      ],
      "text/plain": [
       "   Dst Port  Flow Duration  Tot Fwd Pkts  Tot Bwd Pkts  TotLen Fwd Pkts  \\\n",
       "0        80           1693             2             0              0.0   \n",
       "1        80           2200             2             0              0.0   \n",
       "2        80           2200             2             0              0.0   \n",
       "3        80           5743             2             0              0.0   \n",
       "4        80           8655             2             0              0.0   \n",
       "\n",
       "   TotLen Bwd Pkts  Fwd Pkt Len Max  Fwd Pkt Len Min  Fwd Pkt Len Mean  \\\n",
       "0              0.0              0.0              0.0               0.0   \n",
       "1              0.0              0.0              0.0               0.0   \n",
       "2              0.0              0.0              0.0               0.0   \n",
       "3              0.0              0.0              0.0               0.0   \n",
       "4              0.0              0.0              0.0               0.0   \n",
       "\n",
       "   Fwd Pkt Len Std  ...  Fwd Seg Size Min  Active Mean  Active Std  \\\n",
       "0              0.0  ...                20          0.0         0.0   \n",
       "1              0.0  ...                20          0.0         0.0   \n",
       "2              0.0  ...                20          0.0         0.0   \n",
       "3              0.0  ...                20          0.0         0.0   \n",
       "4              0.0  ...                20          0.0         0.0   \n",
       "\n",
       "   Active Max  Active Min  Idle Mean  Idle Std  Idle Max  Idle Min      Label  \n",
       "0         0.0         0.0        0.0       0.0       0.0       0.0  malicious  \n",
       "1         0.0         0.0        0.0       0.0       0.0       0.0  malicious  \n",
       "2         0.0         0.0        0.0       0.0       0.0       0.0  malicious  \n",
       "3         0.0         0.0        0.0       0.0       0.0       0.0  malicious  \n",
       "4         0.0         0.0        0.0       0.0       0.0       0.0  malicious  \n",
       "\n",
       "[5 rows x 78 columns]"
      ]
     },
     "execution_count": 34,
     "metadata": {},
     "output_type": "execute_result"
    }
   ],
   "source": [
    "# drop the additional columns\n",
    "ids2018_downsampled = ids2018_downsampled.drop(['Protocol', 'Timestamp'], axis=1).copy()\n",
    "ids2018_downsampled.head()"
   ]
  },
  {
   "cell_type": "code",
   "execution_count": 35,
   "id": "7bc0163c-3b5c-4837-a3ff-a6c64daab4da",
   "metadata": {},
   "outputs": [],
   "source": [
    "# function to save the cleaned dataset\n",
    "def save_cleaned_dataset(dataframe: pd.DataFrame,dataset: str, tag: str = \"\"):\n",
    "    # create a new directory to save the cleaned dataset\n",
    "    os.makedirs('./dataset/dataset_cleaned', exist_ok=True)\n",
    "\n",
    "    if not(tag == \"\"):\n",
    "        tag = \"_\" + tag\n",
    "\n",
    "    dataframe.to_csv(f'dataset/dataset_cleaned/{dataset}{tag}.csv', index=False)"
   ]
  },
  {
   "cell_type": "code",
   "execution_count": 36,
   "id": "7dd481f0-8bcf-4f72-a6ae-3f8cef29bd44",
   "metadata": {},
   "outputs": [],
   "source": [
    "# Save the dataset\n",
    "save_cleaned_dataset(ids2018_downsampled, 'CSE-CIC-IDS2018_cleaned')"
   ]
  },
  {
   "cell_type": "code",
   "execution_count": 37,
   "id": "c9390a73-de77-41a9-948a-6c6ca6a48fa9",
   "metadata": {},
   "outputs": [
    {
     "data": {
      "text/plain": [
       "(51558, 78)"
      ]
     },
     "execution_count": 37,
     "metadata": {},
     "output_type": "execute_result"
    }
   ],
   "source": [
    "# loading cleaned dataset\n",
    "ids2018 = pd.read_csv('./dataset/dataset_cleaned/CSE-CIC-IDS2018_cleaned.csv')\n",
    "ids2018 = ids2018.sample(frac=0.1).reset_index(drop=True)\n",
    "ids2018.shape"
   ]
  },
  {
   "cell_type": "markdown",
   "id": "a9ece85d-79b5-4ea8-9482-78fbd85413b5",
   "metadata": {},
   "source": [
    "### Feature Selection\n",
    "\n",
    "There are two methods that will be used to perform the feature selection:\n",
    "1. Random forest - The features will be ranked based on the importance score provided by the random forest classifier and the top $n$ features will be selected\n",
    "2. Brute force - Train the ML models by using different number of features. The accuracy of each model with respect to the number of features will be recorded to select the most concise feature set.set."
   ]
  },
  {
   "cell_type": "markdown",
   "id": "ac5c0dd8-eefc-499e-b02d-50f3b663a747",
   "metadata": {},
   "source": [
    "#### Random Forest feature selection"
   ]
  },
  {
   "cell_type": "code",
   "execution_count": 38,
   "id": "d634f0d7-32dc-440a-b453-a27a17ba6913",
   "metadata": {},
   "outputs": [
    {
     "name": "stdout",
     "output_type": "stream",
     "text": [
      "Columns in the dataset:\n"
     ]
    },
    {
     "data": {
      "text/html": [
       "<div>\n",
       "<style scoped>\n",
       "    .dataframe tbody tr th:only-of-type {\n",
       "        vertical-align: middle;\n",
       "    }\n",
       "\n",
       "    .dataframe tbody tr th {\n",
       "        vertical-align: top;\n",
       "    }\n",
       "\n",
       "    .dataframe thead th {\n",
       "        text-align: right;\n",
       "    }\n",
       "</style>\n",
       "<table border=\"1\" class=\"dataframe\">\n",
       "  <thead>\n",
       "    <tr style=\"text-align: right;\">\n",
       "      <th></th>\n",
       "      <th>Dst Port</th>\n",
       "      <th>Flow Duration</th>\n",
       "      <th>Tot Fwd Pkts</th>\n",
       "      <th>Tot Bwd Pkts</th>\n",
       "      <th>TotLen Fwd Pkts</th>\n",
       "      <th>TotLen Bwd Pkts</th>\n",
       "      <th>Fwd Pkt Len Max</th>\n",
       "      <th>Fwd Pkt Len Min</th>\n",
       "      <th>Fwd Pkt Len Mean</th>\n",
       "      <th>Fwd Pkt Len Std</th>\n",
       "      <th>...</th>\n",
       "      <th>Fwd Seg Size Min</th>\n",
       "      <th>Active Mean</th>\n",
       "      <th>Active Std</th>\n",
       "      <th>Active Max</th>\n",
       "      <th>Active Min</th>\n",
       "      <th>Idle Mean</th>\n",
       "      <th>Idle Std</th>\n",
       "      <th>Idle Max</th>\n",
       "      <th>Idle Min</th>\n",
       "      <th>Label</th>\n",
       "    </tr>\n",
       "  </thead>\n",
       "  <tbody>\n",
       "    <tr>\n",
       "      <th>0</th>\n",
       "      <td>3389</td>\n",
       "      <td>5367285</td>\n",
       "      <td>12</td>\n",
       "      <td>7</td>\n",
       "      <td>1052.0</td>\n",
       "      <td>1429.0</td>\n",
       "      <td>581.0</td>\n",
       "      <td>0.0</td>\n",
       "      <td>87.666667</td>\n",
       "      <td>169.503732</td>\n",
       "      <td>...</td>\n",
       "      <td>20</td>\n",
       "      <td>0.0</td>\n",
       "      <td>0.0</td>\n",
       "      <td>0.0</td>\n",
       "      <td>0.0</td>\n",
       "      <td>0.0</td>\n",
       "      <td>0.0</td>\n",
       "      <td>0.0</td>\n",
       "      <td>0.0</td>\n",
       "      <td>benign</td>\n",
       "    </tr>\n",
       "    <tr>\n",
       "      <th>1</th>\n",
       "      <td>80</td>\n",
       "      <td>3699</td>\n",
       "      <td>2</td>\n",
       "      <td>0</td>\n",
       "      <td>0.0</td>\n",
       "      <td>0.0</td>\n",
       "      <td>0.0</td>\n",
       "      <td>0.0</td>\n",
       "      <td>0.000000</td>\n",
       "      <td>0.000000</td>\n",
       "      <td>...</td>\n",
       "      <td>20</td>\n",
       "      <td>0.0</td>\n",
       "      <td>0.0</td>\n",
       "      <td>0.0</td>\n",
       "      <td>0.0</td>\n",
       "      <td>0.0</td>\n",
       "      <td>0.0</td>\n",
       "      <td>0.0</td>\n",
       "      <td>0.0</td>\n",
       "      <td>benign</td>\n",
       "    </tr>\n",
       "    <tr>\n",
       "      <th>2</th>\n",
       "      <td>80</td>\n",
       "      <td>30311</td>\n",
       "      <td>2</td>\n",
       "      <td>0</td>\n",
       "      <td>0.0</td>\n",
       "      <td>0.0</td>\n",
       "      <td>0.0</td>\n",
       "      <td>0.0</td>\n",
       "      <td>0.000000</td>\n",
       "      <td>0.000000</td>\n",
       "      <td>...</td>\n",
       "      <td>20</td>\n",
       "      <td>0.0</td>\n",
       "      <td>0.0</td>\n",
       "      <td>0.0</td>\n",
       "      <td>0.0</td>\n",
       "      <td>0.0</td>\n",
       "      <td>0.0</td>\n",
       "      <td>0.0</td>\n",
       "      <td>0.0</td>\n",
       "      <td>malicious</td>\n",
       "    </tr>\n",
       "    <tr>\n",
       "      <th>3</th>\n",
       "      <td>80</td>\n",
       "      <td>9202</td>\n",
       "      <td>3</td>\n",
       "      <td>4</td>\n",
       "      <td>314.0</td>\n",
       "      <td>935.0</td>\n",
       "      <td>314.0</td>\n",
       "      <td>0.0</td>\n",
       "      <td>104.666667</td>\n",
       "      <td>181.287984</td>\n",
       "      <td>...</td>\n",
       "      <td>20</td>\n",
       "      <td>0.0</td>\n",
       "      <td>0.0</td>\n",
       "      <td>0.0</td>\n",
       "      <td>0.0</td>\n",
       "      <td>0.0</td>\n",
       "      <td>0.0</td>\n",
       "      <td>0.0</td>\n",
       "      <td>0.0</td>\n",
       "      <td>malicious</td>\n",
       "    </tr>\n",
       "    <tr>\n",
       "      <th>4</th>\n",
       "      <td>443</td>\n",
       "      <td>239</td>\n",
       "      <td>3</td>\n",
       "      <td>0</td>\n",
       "      <td>77.0</td>\n",
       "      <td>0.0</td>\n",
       "      <td>46.0</td>\n",
       "      <td>0.0</td>\n",
       "      <td>25.666667</td>\n",
       "      <td>23.459184</td>\n",
       "      <td>...</td>\n",
       "      <td>20</td>\n",
       "      <td>0.0</td>\n",
       "      <td>0.0</td>\n",
       "      <td>0.0</td>\n",
       "      <td>0.0</td>\n",
       "      <td>0.0</td>\n",
       "      <td>0.0</td>\n",
       "      <td>0.0</td>\n",
       "      <td>0.0</td>\n",
       "      <td>benign</td>\n",
       "    </tr>\n",
       "  </tbody>\n",
       "</table>\n",
       "<p>5 rows × 78 columns</p>\n",
       "</div>"
      ],
      "text/plain": [
       "   Dst Port  Flow Duration  Tot Fwd Pkts  Tot Bwd Pkts  TotLen Fwd Pkts  \\\n",
       "0      3389        5367285            12             7           1052.0   \n",
       "1        80           3699             2             0              0.0   \n",
       "2        80          30311             2             0              0.0   \n",
       "3        80           9202             3             4            314.0   \n",
       "4       443            239             3             0             77.0   \n",
       "\n",
       "   TotLen Bwd Pkts  Fwd Pkt Len Max  Fwd Pkt Len Min  Fwd Pkt Len Mean  \\\n",
       "0           1429.0            581.0              0.0         87.666667   \n",
       "1              0.0              0.0              0.0          0.000000   \n",
       "2              0.0              0.0              0.0          0.000000   \n",
       "3            935.0            314.0              0.0        104.666667   \n",
       "4              0.0             46.0              0.0         25.666667   \n",
       "\n",
       "   Fwd Pkt Len Std  ...  Fwd Seg Size Min  Active Mean  Active Std  \\\n",
       "0       169.503732  ...                20          0.0         0.0   \n",
       "1         0.000000  ...                20          0.0         0.0   \n",
       "2         0.000000  ...                20          0.0         0.0   \n",
       "3       181.287984  ...                20          0.0         0.0   \n",
       "4        23.459184  ...                20          0.0         0.0   \n",
       "\n",
       "   Active Max  Active Min  Idle Mean  Idle Std  Idle Max  Idle Min      Label  \n",
       "0         0.0         0.0        0.0       0.0       0.0       0.0     benign  \n",
       "1         0.0         0.0        0.0       0.0       0.0       0.0     benign  \n",
       "2         0.0         0.0        0.0       0.0       0.0       0.0  malicious  \n",
       "3         0.0         0.0        0.0       0.0       0.0       0.0  malicious  \n",
       "4         0.0         0.0        0.0       0.0       0.0       0.0     benign  \n",
       "\n",
       "[5 rows x 78 columns]"
      ]
     },
     "execution_count": 38,
     "metadata": {},
     "output_type": "execute_result"
    }
   ],
   "source": [
    "ids2018_X = ids2018.drop('Label', axis=1).copy()\n",
    "ids2018_y = ids2018['Label'].copy()\n",
    "print(\"Columns in the dataset:\")\n",
    "ids2018.head(5)"
   ]
  },
  {
   "cell_type": "code",
   "execution_count": 39,
   "id": "2f992def-ce70-4b3b-9a8d-5022eecc9479",
   "metadata": {},
   "outputs": [],
   "source": [
    "X_columns = ids2018_X.columns\n",
    "ids2018_X = StandardScaler().fit_transform(ids2018_X)"
   ]
  },
  {
   "cell_type": "code",
   "execution_count": 40,
   "id": "fce0c20e-9d13-4149-a853-55867d9ab9be",
   "metadata": {},
   "outputs": [
    {
     "name": "stdout",
     "output_type": "stream",
     "text": [
      "CPU times: total: 11.5 s\n",
      "Wall time: 26.5 s\n"
     ]
    },
    {
     "data": {
      "text/html": [
       "<style>#sk-container-id-1 {\n",
       "  /* Definition of color scheme common for light and dark mode */\n",
       "  --sklearn-color-text: black;\n",
       "  --sklearn-color-line: gray;\n",
       "  /* Definition of color scheme for unfitted estimators */\n",
       "  --sklearn-color-unfitted-level-0: #fff5e6;\n",
       "  --sklearn-color-unfitted-level-1: #f6e4d2;\n",
       "  --sklearn-color-unfitted-level-2: #ffe0b3;\n",
       "  --sklearn-color-unfitted-level-3: chocolate;\n",
       "  /* Definition of color scheme for fitted estimators */\n",
       "  --sklearn-color-fitted-level-0: #f0f8ff;\n",
       "  --sklearn-color-fitted-level-1: #d4ebff;\n",
       "  --sklearn-color-fitted-level-2: #b3dbfd;\n",
       "  --sklearn-color-fitted-level-3: cornflowerblue;\n",
       "\n",
       "  /* Specific color for light theme */\n",
       "  --sklearn-color-text-on-default-background: var(--sg-text-color, var(--theme-code-foreground, var(--jp-content-font-color1, black)));\n",
       "  --sklearn-color-background: var(--sg-background-color, var(--theme-background, var(--jp-layout-color0, white)));\n",
       "  --sklearn-color-border-box: var(--sg-text-color, var(--theme-code-foreground, var(--jp-content-font-color1, black)));\n",
       "  --sklearn-color-icon: #696969;\n",
       "\n",
       "  @media (prefers-color-scheme: dark) {\n",
       "    /* Redefinition of color scheme for dark theme */\n",
       "    --sklearn-color-text-on-default-background: var(--sg-text-color, var(--theme-code-foreground, var(--jp-content-font-color1, white)));\n",
       "    --sklearn-color-background: var(--sg-background-color, var(--theme-background, var(--jp-layout-color0, #111)));\n",
       "    --sklearn-color-border-box: var(--sg-text-color, var(--theme-code-foreground, var(--jp-content-font-color1, white)));\n",
       "    --sklearn-color-icon: #878787;\n",
       "  }\n",
       "}\n",
       "\n",
       "#sk-container-id-1 {\n",
       "  color: var(--sklearn-color-text);\n",
       "}\n",
       "\n",
       "#sk-container-id-1 pre {\n",
       "  padding: 0;\n",
       "}\n",
       "\n",
       "#sk-container-id-1 input.sk-hidden--visually {\n",
       "  border: 0;\n",
       "  clip: rect(1px 1px 1px 1px);\n",
       "  clip: rect(1px, 1px, 1px, 1px);\n",
       "  height: 1px;\n",
       "  margin: -1px;\n",
       "  overflow: hidden;\n",
       "  padding: 0;\n",
       "  position: absolute;\n",
       "  width: 1px;\n",
       "}\n",
       "\n",
       "#sk-container-id-1 div.sk-dashed-wrapped {\n",
       "  border: 1px dashed var(--sklearn-color-line);\n",
       "  margin: 0 0.4em 0.5em 0.4em;\n",
       "  box-sizing: border-box;\n",
       "  padding-bottom: 0.4em;\n",
       "  background-color: var(--sklearn-color-background);\n",
       "}\n",
       "\n",
       "#sk-container-id-1 div.sk-container {\n",
       "  /* jupyter's `normalize.less` sets `[hidden] { display: none; }`\n",
       "     but bootstrap.min.css set `[hidden] { display: none !important; }`\n",
       "     so we also need the `!important` here to be able to override the\n",
       "     default hidden behavior on the sphinx rendered scikit-learn.org.\n",
       "     See: https://github.com/scikit-learn/scikit-learn/issues/21755 */\n",
       "  display: inline-block !important;\n",
       "  position: relative;\n",
       "}\n",
       "\n",
       "#sk-container-id-1 div.sk-text-repr-fallback {\n",
       "  display: none;\n",
       "}\n",
       "\n",
       "div.sk-parallel-item,\n",
       "div.sk-serial,\n",
       "div.sk-item {\n",
       "  /* draw centered vertical line to link estimators */\n",
       "  background-image: linear-gradient(var(--sklearn-color-text-on-default-background), var(--sklearn-color-text-on-default-background));\n",
       "  background-size: 2px 100%;\n",
       "  background-repeat: no-repeat;\n",
       "  background-position: center center;\n",
       "}\n",
       "\n",
       "/* Parallel-specific style estimator block */\n",
       "\n",
       "#sk-container-id-1 div.sk-parallel-item::after {\n",
       "  content: \"\";\n",
       "  width: 100%;\n",
       "  border-bottom: 2px solid var(--sklearn-color-text-on-default-background);\n",
       "  flex-grow: 1;\n",
       "}\n",
       "\n",
       "#sk-container-id-1 div.sk-parallel {\n",
       "  display: flex;\n",
       "  align-items: stretch;\n",
       "  justify-content: center;\n",
       "  background-color: var(--sklearn-color-background);\n",
       "  position: relative;\n",
       "}\n",
       "\n",
       "#sk-container-id-1 div.sk-parallel-item {\n",
       "  display: flex;\n",
       "  flex-direction: column;\n",
       "}\n",
       "\n",
       "#sk-container-id-1 div.sk-parallel-item:first-child::after {\n",
       "  align-self: flex-end;\n",
       "  width: 50%;\n",
       "}\n",
       "\n",
       "#sk-container-id-1 div.sk-parallel-item:last-child::after {\n",
       "  align-self: flex-start;\n",
       "  width: 50%;\n",
       "}\n",
       "\n",
       "#sk-container-id-1 div.sk-parallel-item:only-child::after {\n",
       "  width: 0;\n",
       "}\n",
       "\n",
       "/* Serial-specific style estimator block */\n",
       "\n",
       "#sk-container-id-1 div.sk-serial {\n",
       "  display: flex;\n",
       "  flex-direction: column;\n",
       "  align-items: center;\n",
       "  background-color: var(--sklearn-color-background);\n",
       "  padding-right: 1em;\n",
       "  padding-left: 1em;\n",
       "}\n",
       "\n",
       "\n",
       "/* Toggleable style: style used for estimator/Pipeline/ColumnTransformer box that is\n",
       "clickable and can be expanded/collapsed.\n",
       "- Pipeline and ColumnTransformer use this feature and define the default style\n",
       "- Estimators will overwrite some part of the style using the `sk-estimator` class\n",
       "*/\n",
       "\n",
       "/* Pipeline and ColumnTransformer style (default) */\n",
       "\n",
       "#sk-container-id-1 div.sk-toggleable {\n",
       "  /* Default theme specific background. It is overwritten whether we have a\n",
       "  specific estimator or a Pipeline/ColumnTransformer */\n",
       "  background-color: var(--sklearn-color-background);\n",
       "}\n",
       "\n",
       "/* Toggleable label */\n",
       "#sk-container-id-1 label.sk-toggleable__label {\n",
       "  cursor: pointer;\n",
       "  display: block;\n",
       "  width: 100%;\n",
       "  margin-bottom: 0;\n",
       "  padding: 0.5em;\n",
       "  box-sizing: border-box;\n",
       "  text-align: center;\n",
       "}\n",
       "\n",
       "#sk-container-id-1 label.sk-toggleable__label-arrow:before {\n",
       "  /* Arrow on the left of the label */\n",
       "  content: \"▸\";\n",
       "  float: left;\n",
       "  margin-right: 0.25em;\n",
       "  color: var(--sklearn-color-icon);\n",
       "}\n",
       "\n",
       "#sk-container-id-1 label.sk-toggleable__label-arrow:hover:before {\n",
       "  color: var(--sklearn-color-text);\n",
       "}\n",
       "\n",
       "/* Toggleable content - dropdown */\n",
       "\n",
       "#sk-container-id-1 div.sk-toggleable__content {\n",
       "  max-height: 0;\n",
       "  max-width: 0;\n",
       "  overflow: hidden;\n",
       "  text-align: left;\n",
       "  /* unfitted */\n",
       "  background-color: var(--sklearn-color-unfitted-level-0);\n",
       "}\n",
       "\n",
       "#sk-container-id-1 div.sk-toggleable__content.fitted {\n",
       "  /* fitted */\n",
       "  background-color: var(--sklearn-color-fitted-level-0);\n",
       "}\n",
       "\n",
       "#sk-container-id-1 div.sk-toggleable__content pre {\n",
       "  margin: 0.2em;\n",
       "  border-radius: 0.25em;\n",
       "  color: var(--sklearn-color-text);\n",
       "  /* unfitted */\n",
       "  background-color: var(--sklearn-color-unfitted-level-0);\n",
       "}\n",
       "\n",
       "#sk-container-id-1 div.sk-toggleable__content.fitted pre {\n",
       "  /* unfitted */\n",
       "  background-color: var(--sklearn-color-fitted-level-0);\n",
       "}\n",
       "\n",
       "#sk-container-id-1 input.sk-toggleable__control:checked~div.sk-toggleable__content {\n",
       "  /* Expand drop-down */\n",
       "  max-height: 200px;\n",
       "  max-width: 100%;\n",
       "  overflow: auto;\n",
       "}\n",
       "\n",
       "#sk-container-id-1 input.sk-toggleable__control:checked~label.sk-toggleable__label-arrow:before {\n",
       "  content: \"▾\";\n",
       "}\n",
       "\n",
       "/* Pipeline/ColumnTransformer-specific style */\n",
       "\n",
       "#sk-container-id-1 div.sk-label input.sk-toggleable__control:checked~label.sk-toggleable__label {\n",
       "  color: var(--sklearn-color-text);\n",
       "  background-color: var(--sklearn-color-unfitted-level-2);\n",
       "}\n",
       "\n",
       "#sk-container-id-1 div.sk-label.fitted input.sk-toggleable__control:checked~label.sk-toggleable__label {\n",
       "  background-color: var(--sklearn-color-fitted-level-2);\n",
       "}\n",
       "\n",
       "/* Estimator-specific style */\n",
       "\n",
       "/* Colorize estimator box */\n",
       "#sk-container-id-1 div.sk-estimator input.sk-toggleable__control:checked~label.sk-toggleable__label {\n",
       "  /* unfitted */\n",
       "  background-color: var(--sklearn-color-unfitted-level-2);\n",
       "}\n",
       "\n",
       "#sk-container-id-1 div.sk-estimator.fitted input.sk-toggleable__control:checked~label.sk-toggleable__label {\n",
       "  /* fitted */\n",
       "  background-color: var(--sklearn-color-fitted-level-2);\n",
       "}\n",
       "\n",
       "#sk-container-id-1 div.sk-label label.sk-toggleable__label,\n",
       "#sk-container-id-1 div.sk-label label {\n",
       "  /* The background is the default theme color */\n",
       "  color: var(--sklearn-color-text-on-default-background);\n",
       "}\n",
       "\n",
       "/* On hover, darken the color of the background */\n",
       "#sk-container-id-1 div.sk-label:hover label.sk-toggleable__label {\n",
       "  color: var(--sklearn-color-text);\n",
       "  background-color: var(--sklearn-color-unfitted-level-2);\n",
       "}\n",
       "\n",
       "/* Label box, darken color on hover, fitted */\n",
       "#sk-container-id-1 div.sk-label.fitted:hover label.sk-toggleable__label.fitted {\n",
       "  color: var(--sklearn-color-text);\n",
       "  background-color: var(--sklearn-color-fitted-level-2);\n",
       "}\n",
       "\n",
       "/* Estimator label */\n",
       "\n",
       "#sk-container-id-1 div.sk-label label {\n",
       "  font-family: monospace;\n",
       "  font-weight: bold;\n",
       "  display: inline-block;\n",
       "  line-height: 1.2em;\n",
       "}\n",
       "\n",
       "#sk-container-id-1 div.sk-label-container {\n",
       "  text-align: center;\n",
       "}\n",
       "\n",
       "/* Estimator-specific */\n",
       "#sk-container-id-1 div.sk-estimator {\n",
       "  font-family: monospace;\n",
       "  border: 1px dotted var(--sklearn-color-border-box);\n",
       "  border-radius: 0.25em;\n",
       "  box-sizing: border-box;\n",
       "  margin-bottom: 0.5em;\n",
       "  /* unfitted */\n",
       "  background-color: var(--sklearn-color-unfitted-level-0);\n",
       "}\n",
       "\n",
       "#sk-container-id-1 div.sk-estimator.fitted {\n",
       "  /* fitted */\n",
       "  background-color: var(--sklearn-color-fitted-level-0);\n",
       "}\n",
       "\n",
       "/* on hover */\n",
       "#sk-container-id-1 div.sk-estimator:hover {\n",
       "  /* unfitted */\n",
       "  background-color: var(--sklearn-color-unfitted-level-2);\n",
       "}\n",
       "\n",
       "#sk-container-id-1 div.sk-estimator.fitted:hover {\n",
       "  /* fitted */\n",
       "  background-color: var(--sklearn-color-fitted-level-2);\n",
       "}\n",
       "\n",
       "/* Specification for estimator info (e.g. \"i\" and \"?\") */\n",
       "\n",
       "/* Common style for \"i\" and \"?\" */\n",
       "\n",
       ".sk-estimator-doc-link,\n",
       "a:link.sk-estimator-doc-link,\n",
       "a:visited.sk-estimator-doc-link {\n",
       "  float: right;\n",
       "  font-size: smaller;\n",
       "  line-height: 1em;\n",
       "  font-family: monospace;\n",
       "  background-color: var(--sklearn-color-background);\n",
       "  border-radius: 1em;\n",
       "  height: 1em;\n",
       "  width: 1em;\n",
       "  text-decoration: none !important;\n",
       "  margin-left: 1ex;\n",
       "  /* unfitted */\n",
       "  border: var(--sklearn-color-unfitted-level-1) 1pt solid;\n",
       "  color: var(--sklearn-color-unfitted-level-1);\n",
       "}\n",
       "\n",
       ".sk-estimator-doc-link.fitted,\n",
       "a:link.sk-estimator-doc-link.fitted,\n",
       "a:visited.sk-estimator-doc-link.fitted {\n",
       "  /* fitted */\n",
       "  border: var(--sklearn-color-fitted-level-1) 1pt solid;\n",
       "  color: var(--sklearn-color-fitted-level-1);\n",
       "}\n",
       "\n",
       "/* On hover */\n",
       "div.sk-estimator:hover .sk-estimator-doc-link:hover,\n",
       ".sk-estimator-doc-link:hover,\n",
       "div.sk-label-container:hover .sk-estimator-doc-link:hover,\n",
       ".sk-estimator-doc-link:hover {\n",
       "  /* unfitted */\n",
       "  background-color: var(--sklearn-color-unfitted-level-3);\n",
       "  color: var(--sklearn-color-background);\n",
       "  text-decoration: none;\n",
       "}\n",
       "\n",
       "div.sk-estimator.fitted:hover .sk-estimator-doc-link.fitted:hover,\n",
       ".sk-estimator-doc-link.fitted:hover,\n",
       "div.sk-label-container:hover .sk-estimator-doc-link.fitted:hover,\n",
       ".sk-estimator-doc-link.fitted:hover {\n",
       "  /* fitted */\n",
       "  background-color: var(--sklearn-color-fitted-level-3);\n",
       "  color: var(--sklearn-color-background);\n",
       "  text-decoration: none;\n",
       "}\n",
       "\n",
       "/* Span, style for the box shown on hovering the info icon */\n",
       ".sk-estimator-doc-link span {\n",
       "  display: none;\n",
       "  z-index: 9999;\n",
       "  position: relative;\n",
       "  font-weight: normal;\n",
       "  right: .2ex;\n",
       "  padding: .5ex;\n",
       "  margin: .5ex;\n",
       "  width: min-content;\n",
       "  min-width: 20ex;\n",
       "  max-width: 50ex;\n",
       "  color: var(--sklearn-color-text);\n",
       "  box-shadow: 2pt 2pt 4pt #999;\n",
       "  /* unfitted */\n",
       "  background: var(--sklearn-color-unfitted-level-0);\n",
       "  border: .5pt solid var(--sklearn-color-unfitted-level-3);\n",
       "}\n",
       "\n",
       ".sk-estimator-doc-link.fitted span {\n",
       "  /* fitted */\n",
       "  background: var(--sklearn-color-fitted-level-0);\n",
       "  border: var(--sklearn-color-fitted-level-3);\n",
       "}\n",
       "\n",
       ".sk-estimator-doc-link:hover span {\n",
       "  display: block;\n",
       "}\n",
       "\n",
       "/* \"?\"-specific style due to the `<a>` HTML tag */\n",
       "\n",
       "#sk-container-id-1 a.estimator_doc_link {\n",
       "  float: right;\n",
       "  font-size: 1rem;\n",
       "  line-height: 1em;\n",
       "  font-family: monospace;\n",
       "  background-color: var(--sklearn-color-background);\n",
       "  border-radius: 1rem;\n",
       "  height: 1rem;\n",
       "  width: 1rem;\n",
       "  text-decoration: none;\n",
       "  /* unfitted */\n",
       "  color: var(--sklearn-color-unfitted-level-1);\n",
       "  border: var(--sklearn-color-unfitted-level-1) 1pt solid;\n",
       "}\n",
       "\n",
       "#sk-container-id-1 a.estimator_doc_link.fitted {\n",
       "  /* fitted */\n",
       "  border: var(--sklearn-color-fitted-level-1) 1pt solid;\n",
       "  color: var(--sklearn-color-fitted-level-1);\n",
       "}\n",
       "\n",
       "/* On hover */\n",
       "#sk-container-id-1 a.estimator_doc_link:hover {\n",
       "  /* unfitted */\n",
       "  background-color: var(--sklearn-color-unfitted-level-3);\n",
       "  color: var(--sklearn-color-background);\n",
       "  text-decoration: none;\n",
       "}\n",
       "\n",
       "#sk-container-id-1 a.estimator_doc_link.fitted:hover {\n",
       "  /* fitted */\n",
       "  background-color: var(--sklearn-color-fitted-level-3);\n",
       "}\n",
       "</style><div id=\"sk-container-id-1\" class=\"sk-top-container\"><div class=\"sk-text-repr-fallback\"><pre>RandomForestClassifier()</pre><b>In a Jupyter environment, please rerun this cell to show the HTML representation or trust the notebook. <br />On GitHub, the HTML representation is unable to render, please try loading this page with nbviewer.org.</b></div><div class=\"sk-container\" hidden><div class=\"sk-item\"><div class=\"sk-estimator fitted sk-toggleable\"><input class=\"sk-toggleable__control sk-hidden--visually\" id=\"sk-estimator-id-1\" type=\"checkbox\" checked><label for=\"sk-estimator-id-1\" class=\"sk-toggleable__label fitted sk-toggleable__label-arrow fitted\">&nbsp;&nbsp;RandomForestClassifier<a class=\"sk-estimator-doc-link fitted\" rel=\"noreferrer\" target=\"_blank\" href=\"https://scikit-learn.org/1.4/modules/generated/sklearn.ensemble.RandomForestClassifier.html\">?<span>Documentation for RandomForestClassifier</span></a><span class=\"sk-estimator-doc-link fitted\">i<span>Fitted</span></span></label><div class=\"sk-toggleable__content fitted\"><pre>RandomForestClassifier()</pre></div> </div></div></div></div>"
      ],
      "text/plain": [
       "RandomForestClassifier()"
      ]
     },
     "execution_count": 40,
     "metadata": {},
     "output_type": "execute_result"
    }
   ],
   "source": [
    "%%time\n",
    "rfc = RandomForestClassifier()\n",
    "\n",
    "# fit random forest classifier on the training set\n",
    "rfc.fit(ids2018_X, ids2018_y)"
   ]
  },
  {
   "cell_type": "code",
   "execution_count": 41,
   "id": "14e6a644-304e-4505-a28e-ba7631c3aa61",
   "metadata": {},
   "outputs": [
    {
     "name": "stdout",
     "output_type": "stream",
     "text": [
      "Top 20 features: \n",
      "                   importance\n",
      "feature                      \n",
      "Dst Port                0.072\n",
      "Subflow Fwd Byts        0.057\n",
      "Init Fwd Win Byts       0.049\n",
      "Fwd Pkt Len Max         0.048\n",
      "Fwd Pkt Len Mean        0.048\n",
      "Init Bwd Win Byts       0.042\n",
      "Fwd Header Len          0.035\n",
      "Fwd Seg Size Avg        0.035\n",
      "TotLen Fwd Pkts         0.032\n",
      "Flow IAT Mean           0.027\n",
      "Fwd IAT Max             0.025\n",
      "Fwd IAT Mean            0.024\n",
      "Fwd Seg Size Min        0.023\n",
      "Flow IAT Max            0.023\n",
      "Flow Duration           0.021\n",
      "Fwd Pkts/s              0.021\n",
      "Fwd IAT Tot             0.021\n",
      "Bwd Pkts/s              0.020\n",
      "Fwd IAT Min             0.020\n",
      "Flow Pkts/s             0.018\n"
     ]
    },
    {
     "data": {
      "text/plain": [
       "<Axes: xlabel='feature'>"
      ]
     },
     "execution_count": 41,
     "metadata": {},
     "output_type": "execute_result"
    },
    {
     "data": {
      "image/png": "[encoded data removed]",
      "text/plain": [
       "<Figure size 1200x400 with 1 Axes>"
      ]
     },
     "metadata": {},
     "output_type": "display_data"
    }
   ],
   "source": [
    "# extract the importance score from the random forest classifier\n",
    "score = np.round(rfc.feature_importances_, 3)\n",
    "importance = pd.DataFrame({'feature': X_columns, \n",
    "                            'importance': score})\n",
    "importance = importance.sort_values('importance', ascending=False).set_index('feature')\n",
    "\n",
    "print(f\"Top 20 features: \\n{importance[:20]}\")\n",
    "\n",
    "plt.rcParams['figure.figsize'] = (12, 4)\n",
    "importance.plot.bar()"
   ]
  },
  {
   "cell_type": "code",
   "execution_count": 42,
   "id": "50b9dcec-6445-482f-90bb-3ada48c792d1",
   "metadata": {},
   "outputs": [],
   "source": [
    "def save_feature(features: pd.Series, dataset_name: str, algorithm: str, tag: str = \"\"):\n",
    "    \n",
    "    feature_count = features.shape[0]\n",
    "\n",
    "    if not(tag == \"\"):\n",
    "        tag = \"_\" + tag\n",
    "    \n",
    "    directory = 'dataset/features_selected'\n",
    "    file_name = f\"{dataset_name}_{algorithm}_{feature_count}{tag}\"\n",
    "    \n",
    "    # create directory to save the file\n",
    "    os.makedirs(directory, exist_ok=True)\n",
    "    \n",
    "    features.to_csv(f\"{directory}/{file_name}.csv\", index=False, columns=None)\n",
    "\n",
    "    print(f\"The features have been saved in {directory}/{file_name}.csv\")"
   ]
  },
  {
   "cell_type": "code",
   "execution_count": 43,
   "id": "0a156967-8d48-4982-a2e1-0eb8d657c39b",
   "metadata": {},
   "outputs": [
    {
     "name": "stdout",
     "output_type": "stream",
     "text": [
      "The features have been saved in dataset/features_selected/CIC-IDS2018_RandomForestClassifier_20.csv\n"
     ]
    }
   ],
   "source": [
    "features = pd.Series(importance.index[:20], dtype='str')\n",
    "save_feature(features=features, \n",
    "            dataset_name='CIC-IDS2018', \n",
    "            algorithm='RandomForestClassifier')"
   ]
  },
  {
   "cell_type": "markdown",
   "id": "291852d4-7f38-4e56-a047-afea1aa04a52",
   "metadata": {},
   "source": [
    "#### Brute force feature reduction"
   ]
  },
  {
   "cell_type": "code",
   "execution_count": 44,
   "id": "ca0db195-a239-4e48-824e-8d9728177956",
   "metadata": {},
   "outputs": [
    {
     "data": {
      "text/plain": [
       "(51558, 21)"
      ]
     },
     "execution_count": 44,
     "metadata": {},
     "output_type": "execute_result"
    }
   ],
   "source": [
    "columns = features.tolist() +  ['Label']\n",
    "\n",
    "ids2018 = ids2018[columns]\n",
    "ids2018.shape"
   ]
  },
  {
   "cell_type": "code",
   "execution_count": 45,
   "id": "46580eb7-2f74-4309-a8c5-915b7c3fd9a7",
   "metadata": {},
   "outputs": [],
   "source": [
    "ids2018_X = ids2018.drop('Label', axis=1).copy()\n",
    "ids2018_y = ids2018['Label'].copy()\n",
    "\n",
    "ids2018_train_X, ids2018_test_X, ids2018_train_y, ids2018_test_y = train_test_split(ids2018_X, ids2018_y, test_size=0.3)"
   ]
  },
  {
   "cell_type": "code",
   "execution_count": 48,
   "id": "de777f44-921c-4b59-bd7d-0320219a47cb",
   "metadata": {},
   "outputs": [],
   "source": [
    "# define ML models without optimized hyperparameter\n",
    "models = {\n",
    "    'Decision Tree': tree.DecisionTreeClassifier(),\n",
    "    'Random Forest': RandomForestClassifier(n_jobs=-1),\n",
    "    'Support Vector Machine': SVC(),\n",
    "    'Naive Bayes': GaussianNB(),\n",
    "    'Artificial Neural Network': MLPClassifier(hidden_layer_sizes=(40), max_iter=500),\n",
    "    'Deep Neural Network': MLPClassifier(hidden_layer_sizes=(12, 12, 12), max_iter=500),\n",
    "    'Extreme Learning Machine': ELMClassifier(n_neurons=(12, 12, 12), ufunc='tanh', batch_size=1000),\n",
    "}"
   ]
  },
  {
   "cell_type": "code",
   "execution_count": 49,
   "id": "65df210f-bde3-4432-a127-79f5f058c968",
   "metadata": {},
   "outputs": [
    {
     "name": "stdout",
     "output_type": "stream",
     "text": [
      "Added feature 1 (Dst Port)...\n",
      "Added feature 2 (Subflow Fwd Byts)...\n",
      "Added feature 3 (Init Fwd Win Byts)...\n",
      "Added feature 4 (Fwd Pkt Len Max)...\n",
      "Added feature 5 (Fwd Pkt Len Mean)...\n",
      "Added feature 6 (Init Bwd Win Byts)...\n",
      "Added feature 7 (Fwd Header Len)...\n",
      "Added feature 8 (Fwd Seg Size Avg)...\n",
      "Added feature 9 (TotLen Fwd Pkts)...\n",
      "Added feature 10 (Flow IAT Mean)...\n",
      "Added feature 11 (Fwd IAT Max)...\n",
      "Added feature 12 (Fwd IAT Mean)...\n",
      "Added feature 13 (Fwd Seg Size Min)...\n",
      "Added feature 14 (Flow IAT Max)...\n",
      "Added feature 15 (Flow Duration)...\n",
      "Added feature 16 (Fwd Pkts/s)...\n",
      "Added feature 17 (Fwd IAT Tot)...\n",
      "Added feature 18 (Bwd Pkts/s)...\n",
      "Added feature 19 (Fwd IAT Min)...\n",
      "Added feature 20 (Flow Pkts/s)...\n"
     ]
    }
   ],
   "source": [
    "feature_set = []\n",
    "scalar = StandardScaler()\n",
    "scores = []\n",
    "\n",
    "for feature in features:\n",
    "    feature_set.append(feature)\n",
    "    print(f\"Added feature {len(feature_set)} ({feature})...\")\\\n",
    "    \n",
    "    test_X = ids2018_test_X[feature_set]\n",
    "    train_X = ids2018_train_X[feature_set]\n",
    "\n",
    "    # scale the dataset\n",
    "    train_X_scaled = scalar.fit(train_X)\n",
    "    train_X_scaled = scalar.transform(train_X)\n",
    "    test_X_scaled = scalar.transform(test_X)\n",
    "\n",
    "    score_temp = [len(feature_set)]\n",
    "\n",
    "    for model in models:\n",
    "        clf = models[model]\n",
    "        clf.fit(train_X_scaled, ids2018_train_y)\n",
    "\n",
    "        prediction = clf.predict(test_X_scaled)\n",
    "        accuracy = metrics.accuracy_score(ids2018_test_y, prediction)\n",
    "\n",
    "        score_temp.append(accuracy)\n",
    "\n",
    "    scores.append(score_temp)\n",
    "\n",
    "\n",
    "scores = np.array(scores)"
   ]
  },
  {
   "cell_type": "code",
   "execution_count": 50,
   "id": "6086095c-bd30-46c2-b425-270c94a1a45f",
   "metadata": {
    "scrolled": true
   },
   "outputs": [
    {
     "data": {
      "image/png": "[encoded data removed]",
      "text/plain": [
       "<Figure size 1500x1000 with 1 Axes>"
      ]
     },
     "metadata": {},
     "output_type": "display_data"
    }
   ],
   "source": [
    "plt.figure(figsize=(15, 10))\n",
    "for index, model in enumerate(models):\n",
    "    plt.plot(scores.T[0], scores.T[index + 1], label=model)\n",
    "\n",
    "plt.rcParams.update({'font.size': 13})\n",
    "plt.title('Accuracy of the models with respect to the number of features')\n",
    "plt.xlabel('Number of features')\n",
    "plt.ylabel('Accuracy score')\n",
    "plt.legend()\n",
    "plt.grid()\n",
    "plt.show()"
   ]
  },
  {
   "cell_type": "markdown",
   "id": "292662b2-5349-4f2a-b86a-570ef0e3576d",
   "metadata": {},
   "source": [
    "# Optimising models' hyperparameter"
   ]
  },
  {
   "cell_type": "code",
   "execution_count": 51,
   "id": "d40d1e6d-8d18-41c5-a6d8-055305d7ccb7",
   "metadata": {},
   "outputs": [],
   "source": [
    "# Loading the feature list\n",
    "features = pd.read_csv('dataset/features_selected/CIC-IDS2018_RandomForestClassifier_20.csv').squeeze()\n",
    "features = features[:11]"
   ]
  },
  {
   "cell_type": "code",
   "execution_count": 52,
   "id": "b035deb5-e080-439a-9058-91f6f5cf6a6f",
   "metadata": {},
   "outputs": [
    {
     "data": {
      "text/plain": [
       "(515582, 12)"
      ]
     },
     "execution_count": 52,
     "metadata": {},
     "output_type": "execute_result"
    }
   ],
   "source": [
    "columns = features.tolist() +  ['Label']\n",
    "\n",
    "# Loading the cleaned dataset\n",
    "cic_ids2018 = pd.read_csv('./dataset/dataset_cleaned/CSE-CIC-IDS2018_cleaned.csv', usecols=columns)\n",
    "cic_ids2018.shape"
   ]
  },
  {
   "cell_type": "markdown",
   "id": "2103a542-051c-4ee8-8c86-592c9d58ba26",
   "metadata": {},
   "source": [
    "### Processing before training"
   ]
  },
  {
   "cell_type": "code",
   "execution_count": 53,
   "id": "b135511d-d13d-426c-9c9f-bf8042127657",
   "metadata": {},
   "outputs": [
    {
     "name": "stdout",
     "output_type": "stream",
     "text": [
      "Class distribution: \n"
     ]
    },
    {
     "data": {
      "text/plain": [
       "Label\n",
       "benign       25893\n",
       "malicious    25665\n",
       "Name: count, dtype: int64"
      ]
     },
     "execution_count": 53,
     "metadata": {},
     "output_type": "execute_result"
    }
   ],
   "source": [
    "cic_ids2018 = cic_ids2018.sample(frac=0.1).reset_index(drop=True)\n",
    "\n",
    "print('Class distribution: ')\n",
    "cic_ids2018['Label'].value_counts()"
   ]
  },
  {
   "cell_type": "markdown",
   "id": "46159483-e8bd-4d62-989f-36b05b5faafc",
   "metadata": {},
   "source": [
    "### Split dataset \n",
    "Splitting dataset into two subsets - 70% for training and 30% for testing."
   ]
  },
  {
   "cell_type": "code",
   "execution_count": 54,
   "id": "5e4c7ee4-0d6c-4908-bf44-e10cb8087130",
   "metadata": {},
   "outputs": [],
   "source": [
    "ids2018_X = cic_ids2018.drop('Label', axis=1).copy()\n",
    "ids2018_y = cic_ids2018['Label'].copy()\n",
    "\n",
    "ids2018_train_X, ids2018_test_X, ids2018_train_y, ids2018_test_y = train_test_split(ids2018_X, ids2018_y, test_size=0.3)"
   ]
  },
  {
   "cell_type": "markdown",
   "id": "ea6a460c-4319-40ff-9658-e98cf2a62a06",
   "metadata": {},
   "source": [
    "### Data Scaling"
   ]
  },
  {
   "cell_type": "code",
   "execution_count": 55,
   "id": "d91a005b-5150-4464-87fa-0cde8f3b71fa",
   "metadata": {},
   "outputs": [],
   "source": [
    "scalar = StandardScaler()\n",
    "\n",
    "ids2018_train_X_scaled = scalar.fit_transform(ids2018_train_X)\n",
    "ids2018_test_X_scaled = scalar.transform(ids2018_test_X)"
   ]
  },
  {
   "cell_type": "markdown",
   "id": "b9bbe2a2-4fb9-4197-9a48-28430a7a27a2",
   "metadata": {},
   "source": [
    "## Optimize Hyperparameter of each models"
   ]
  },
  {
   "cell_type": "markdown",
   "id": "297ba050-a7ed-42fc-9e24-f9a38c15adf3",
   "metadata": {},
   "source": [
    "### Decision Tree"
   ]
  },
  {
   "cell_type": "code",
   "execution_count": 56,
   "id": "d832e651-336c-415d-bb9f-3b4bf713f4bb",
   "metadata": {},
   "outputs": [
    {
     "name": "stdout",
     "output_type": "stream",
     "text": [
      "CPU times: total: 16min 35s\n",
      "Wall time: 22min 38s\n"
     ]
    },
    {
     "data": {
      "text/plain": [
       "<Axes: xlabel='alpha'>"
      ]
     },
     "execution_count": 56,
     "metadata": {},
     "output_type": "execute_result"
    },
    {
     "data": {
      "image/png": "[encoded data removed]",
      "text/plain": [
       "<Figure size 1200x400 with 1 Axes>"
      ]
     },
     "metadata": {},
     "output_type": "display_data"
    }
   ],
   "source": [
    "%%time\n",
    "\n",
    "decision_tree = tree.DecisionTreeClassifier(criterion='entropy')\n",
    "path = decision_tree.cost_complexity_pruning_path(ids2018_train_X_scaled, ids2018_train_y)\n",
    "ccp_alphas = path.ccp_alphas\n",
    "ccp_alphas = ccp_alphas[:-1] # exlude the maximum value\n",
    "\n",
    "alpha_loop_values = []\n",
    "\n",
    "for ccp_alpha in ccp_alphas:\n",
    "    decision_tree = tree.DecisionTreeClassifier(criterion='entropy', ccp_alpha=ccp_alpha)\n",
    "    scores = cross_val_score(decision_tree, ids2018_train_X_scaled, ids2018_train_y, cv=5)\n",
    "    alpha_loop_values.append([ccp_alpha, np.mean(scores), np.std(scores)])\n",
    "\n",
    "\n",
    "# Plot a graph of the means and standard deviations of the scores for each candidate\n",
    "alpha_results = pd.DataFrame(alpha_loop_values, columns=['alpha', 'mean_accuracy', 'std'])\n",
    "\n",
    "alpha_results.plot(x='alpha', \n",
    "                    y='mean_accuracy', \n",
    "                    yerr='std', \n",
    "                    marker='o', \n",
    "                    linestyle='--')"
   ]
  },
  {
   "cell_type": "markdown",
   "id": "b4bafba3-bac0-4110-b21d-8aeb4173dad9",
   "metadata": {},
   "source": [
    "Build the optimal tree and evaluate its accuracy"
   ]
  },
  {
   "cell_type": "code",
   "execution_count": 57,
   "id": "ea89ee2c-23ef-45b3-99d5-2a387f8a1ba3",
   "metadata": {},
   "outputs": [
    {
     "name": "stdout",
     "output_type": "stream",
     "text": [
      "Optimal alpha value: 0.0003945041340130133\n"
     ]
    },
    {
     "data": {
      "text/html": [
       "<style>#sk-container-id-2 {\n",
       "  /* Definition of color scheme common for light and dark mode */\n",
       "  --sklearn-color-text: black;\n",
       "  --sklearn-color-line: gray;\n",
       "  /* Definition of color scheme for unfitted estimators */\n",
       "  --sklearn-color-unfitted-level-0: #fff5e6;\n",
       "  --sklearn-color-unfitted-level-1: #f6e4d2;\n",
       "  --sklearn-color-unfitted-level-2: #ffe0b3;\n",
       "  --sklearn-color-unfitted-level-3: chocolate;\n",
       "  /* Definition of color scheme for fitted estimators */\n",
       "  --sklearn-color-fitted-level-0: #f0f8ff;\n",
       "  --sklearn-color-fitted-level-1: #d4ebff;\n",
       "  --sklearn-color-fitted-level-2: #b3dbfd;\n",
       "  --sklearn-color-fitted-level-3: cornflowerblue;\n",
       "\n",
       "  /* Specific color for light theme */\n",
       "  --sklearn-color-text-on-default-background: var(--sg-text-color, var(--theme-code-foreground, var(--jp-content-font-color1, black)));\n",
       "  --sklearn-color-background: var(--sg-background-color, var(--theme-background, var(--jp-layout-color0, white)));\n",
       "  --sklearn-color-border-box: var(--sg-text-color, var(--theme-code-foreground, var(--jp-content-font-color1, black)));\n",
       "  --sklearn-color-icon: #696969;\n",
       "\n",
       "  @media (prefers-color-scheme: dark) {\n",
       "    /* Redefinition of color scheme for dark theme */\n",
       "    --sklearn-color-text-on-default-background: var(--sg-text-color, var(--theme-code-foreground, var(--jp-content-font-color1, white)));\n",
       "    --sklearn-color-background: var(--sg-background-color, var(--theme-background, var(--jp-layout-color0, #111)));\n",
       "    --sklearn-color-border-box: var(--sg-text-color, var(--theme-code-foreground, var(--jp-content-font-color1, white)));\n",
       "    --sklearn-color-icon: #878787;\n",
       "  }\n",
       "}\n",
       "\n",
       "#sk-container-id-2 {\n",
       "  color: var(--sklearn-color-text);\n",
       "}\n",
       "\n",
       "#sk-container-id-2 pre {\n",
       "  padding: 0;\n",
       "}\n",
       "\n",
       "#sk-container-id-2 input.sk-hidden--visually {\n",
       "  border: 0;\n",
       "  clip: rect(1px 1px 1px 1px);\n",
       "  clip: rect(1px, 1px, 1px, 1px);\n",
       "  height: 1px;\n",
       "  margin: -1px;\n",
       "  overflow: hidden;\n",
       "  padding: 0;\n",
       "  position: absolute;\n",
       "  width: 1px;\n",
       "}\n",
       "\n",
       "#sk-container-id-2 div.sk-dashed-wrapped {\n",
       "  border: 1px dashed var(--sklearn-color-line);\n",
       "  margin: 0 0.4em 0.5em 0.4em;\n",
       "  box-sizing: border-box;\n",
       "  padding-bottom: 0.4em;\n",
       "  background-color: var(--sklearn-color-background);\n",
       "}\n",
       "\n",
       "#sk-container-id-2 div.sk-container {\n",
       "  /* jupyter's `normalize.less` sets `[hidden] { display: none; }`\n",
       "     but bootstrap.min.css set `[hidden] { display: none !important; }`\n",
       "     so we also need the `!important` here to be able to override the\n",
       "     default hidden behavior on the sphinx rendered scikit-learn.org.\n",
       "     See: https://github.com/scikit-learn/scikit-learn/issues/21755 */\n",
       "  display: inline-block !important;\n",
       "  position: relative;\n",
       "}\n",
       "\n",
       "#sk-container-id-2 div.sk-text-repr-fallback {\n",
       "  display: none;\n",
       "}\n",
       "\n",
       "div.sk-parallel-item,\n",
       "div.sk-serial,\n",
       "div.sk-item {\n",
       "  /* draw centered vertical line to link estimators */\n",
       "  background-image: linear-gradient(var(--sklearn-color-text-on-default-background), var(--sklearn-color-text-on-default-background));\n",
       "  background-size: 2px 100%;\n",
       "  background-repeat: no-repeat;\n",
       "  background-position: center center;\n",
       "}\n",
       "\n",
       "/* Parallel-specific style estimator block */\n",
       "\n",
       "#sk-container-id-2 div.sk-parallel-item::after {\n",
       "  content: \"\";\n",
       "  width: 100%;\n",
       "  border-bottom: 2px solid var(--sklearn-color-text-on-default-background);\n",
       "  flex-grow: 1;\n",
       "}\n",
       "\n",
       "#sk-container-id-2 div.sk-parallel {\n",
       "  display: flex;\n",
       "  align-items: stretch;\n",
       "  justify-content: center;\n",
       "  background-color: var(--sklearn-color-background);\n",
       "  position: relative;\n",
       "}\n",
       "\n",
       "#sk-container-id-2 div.sk-parallel-item {\n",
       "  display: flex;\n",
       "  flex-direction: column;\n",
       "}\n",
       "\n",
       "#sk-container-id-2 div.sk-parallel-item:first-child::after {\n",
       "  align-self: flex-end;\n",
       "  width: 50%;\n",
       "}\n",
       "\n",
       "#sk-container-id-2 div.sk-parallel-item:last-child::after {\n",
       "  align-self: flex-start;\n",
       "  width: 50%;\n",
       "}\n",
       "\n",
       "#sk-container-id-2 div.sk-parallel-item:only-child::after {\n",
       "  width: 0;\n",
       "}\n",
       "\n",
       "/* Serial-specific style estimator block */\n",
       "\n",
       "#sk-container-id-2 div.sk-serial {\n",
       "  display: flex;\n",
       "  flex-direction: column;\n",
       "  align-items: center;\n",
       "  background-color: var(--sklearn-color-background);\n",
       "  padding-right: 1em;\n",
       "  padding-left: 1em;\n",
       "}\n",
       "\n",
       "\n",
       "/* Toggleable style: style used for estimator/Pipeline/ColumnTransformer box that is\n",
       "clickable and can be expanded/collapsed.\n",
       "- Pipeline and ColumnTransformer use this feature and define the default style\n",
       "- Estimators will overwrite some part of the style using the `sk-estimator` class\n",
       "*/\n",
       "\n",
       "/* Pipeline and ColumnTransformer style (default) */\n",
       "\n",
       "#sk-container-id-2 div.sk-toggleable {\n",
       "  /* Default theme specific background. It is overwritten whether we have a\n",
       "  specific estimator or a Pipeline/ColumnTransformer */\n",
       "  background-color: var(--sklearn-color-background);\n",
       "}\n",
       "\n",
       "/* Toggleable label */\n",
       "#sk-container-id-2 label.sk-toggleable__label {\n",
       "  cursor: pointer;\n",
       "  display: block;\n",
       "  width: 100%;\n",
       "  margin-bottom: 0;\n",
       "  padding: 0.5em;\n",
       "  box-sizing: border-box;\n",
       "  text-align: center;\n",
       "}\n",
       "\n",
       "#sk-container-id-2 label.sk-toggleable__label-arrow:before {\n",
       "  /* Arrow on the left of the label */\n",
       "  content: \"▸\";\n",
       "  float: left;\n",
       "  margin-right: 0.25em;\n",
       "  color: var(--sklearn-color-icon);\n",
       "}\n",
       "\n",
       "#sk-container-id-2 label.sk-toggleable__label-arrow:hover:before {\n",
       "  color: var(--sklearn-color-text);\n",
       "}\n",
       "\n",
       "/* Toggleable content - dropdown */\n",
       "\n",
       "#sk-container-id-2 div.sk-toggleable__content {\n",
       "  max-height: 0;\n",
       "  max-width: 0;\n",
       "  overflow: hidden;\n",
       "  text-align: left;\n",
       "  /* unfitted */\n",
       "  background-color: var(--sklearn-color-unfitted-level-0);\n",
       "}\n",
       "\n",
       "#sk-container-id-2 div.sk-toggleable__content.fitted {\n",
       "  /* fitted */\n",
       "  background-color: var(--sklearn-color-fitted-level-0);\n",
       "}\n",
       "\n",
       "#sk-container-id-2 div.sk-toggleable__content pre {\n",
       "  margin: 0.2em;\n",
       "  border-radius: 0.25em;\n",
       "  color: var(--sklearn-color-text);\n",
       "  /* unfitted */\n",
       "  background-color: var(--sklearn-color-unfitted-level-0);\n",
       "}\n",
       "\n",
       "#sk-container-id-2 div.sk-toggleable__content.fitted pre {\n",
       "  /* unfitted */\n",
       "  background-color: var(--sklearn-color-fitted-level-0);\n",
       "}\n",
       "\n",
       "#sk-container-id-2 input.sk-toggleable__control:checked~div.sk-toggleable__content {\n",
       "  /* Expand drop-down */\n",
       "  max-height: 200px;\n",
       "  max-width: 100%;\n",
       "  overflow: auto;\n",
       "}\n",
       "\n",
       "#sk-container-id-2 input.sk-toggleable__control:checked~label.sk-toggleable__label-arrow:before {\n",
       "  content: \"▾\";\n",
       "}\n",
       "\n",
       "/* Pipeline/ColumnTransformer-specific style */\n",
       "\n",
       "#sk-container-id-2 div.sk-label input.sk-toggleable__control:checked~label.sk-toggleable__label {\n",
       "  color: var(--sklearn-color-text);\n",
       "  background-color: var(--sklearn-color-unfitted-level-2);\n",
       "}\n",
       "\n",
       "#sk-container-id-2 div.sk-label.fitted input.sk-toggleable__control:checked~label.sk-toggleable__label {\n",
       "  background-color: var(--sklearn-color-fitted-level-2);\n",
       "}\n",
       "\n",
       "/* Estimator-specific style */\n",
       "\n",
       "/* Colorize estimator box */\n",
       "#sk-container-id-2 div.sk-estimator input.sk-toggleable__control:checked~label.sk-toggleable__label {\n",
       "  /* unfitted */\n",
       "  background-color: var(--sklearn-color-unfitted-level-2);\n",
       "}\n",
       "\n",
       "#sk-container-id-2 div.sk-estimator.fitted input.sk-toggleable__control:checked~label.sk-toggleable__label {\n",
       "  /* fitted */\n",
       "  background-color: var(--sklearn-color-fitted-level-2);\n",
       "}\n",
       "\n",
       "#sk-container-id-2 div.sk-label label.sk-toggleable__label,\n",
       "#sk-container-id-2 div.sk-label label {\n",
       "  /* The background is the default theme color */\n",
       "  color: var(--sklearn-color-text-on-default-background);\n",
       "}\n",
       "\n",
       "/* On hover, darken the color of the background */\n",
       "#sk-container-id-2 div.sk-label:hover label.sk-toggleable__label {\n",
       "  color: var(--sklearn-color-text);\n",
       "  background-color: var(--sklearn-color-unfitted-level-2);\n",
       "}\n",
       "\n",
       "/* Label box, darken color on hover, fitted */\n",
       "#sk-container-id-2 div.sk-label.fitted:hover label.sk-toggleable__label.fitted {\n",
       "  color: var(--sklearn-color-text);\n",
       "  background-color: var(--sklearn-color-fitted-level-2);\n",
       "}\n",
       "\n",
       "/* Estimator label */\n",
       "\n",
       "#sk-container-id-2 div.sk-label label {\n",
       "  font-family: monospace;\n",
       "  font-weight: bold;\n",
       "  display: inline-block;\n",
       "  line-height: 1.2em;\n",
       "}\n",
       "\n",
       "#sk-container-id-2 div.sk-label-container {\n",
       "  text-align: center;\n",
       "}\n",
       "\n",
       "/* Estimator-specific */\n",
       "#sk-container-id-2 div.sk-estimator {\n",
       "  font-family: monospace;\n",
       "  border: 1px dotted var(--sklearn-color-border-box);\n",
       "  border-radius: 0.25em;\n",
       "  box-sizing: border-box;\n",
       "  margin-bottom: 0.5em;\n",
       "  /* unfitted */\n",
       "  background-color: var(--sklearn-color-unfitted-level-0);\n",
       "}\n",
       "\n",
       "#sk-container-id-2 div.sk-estimator.fitted {\n",
       "  /* fitted */\n",
       "  background-color: var(--sklearn-color-fitted-level-0);\n",
       "}\n",
       "\n",
       "/* on hover */\n",
       "#sk-container-id-2 div.sk-estimator:hover {\n",
       "  /* unfitted */\n",
       "  background-color: var(--sklearn-color-unfitted-level-2);\n",
       "}\n",
       "\n",
       "#sk-container-id-2 div.sk-estimator.fitted:hover {\n",
       "  /* fitted */\n",
       "  background-color: var(--sklearn-color-fitted-level-2);\n",
       "}\n",
       "\n",
       "/* Specification for estimator info (e.g. \"i\" and \"?\") */\n",
       "\n",
       "/* Common style for \"i\" and \"?\" */\n",
       "\n",
       ".sk-estimator-doc-link,\n",
       "a:link.sk-estimator-doc-link,\n",
       "a:visited.sk-estimator-doc-link {\n",
       "  float: right;\n",
       "  font-size: smaller;\n",
       "  line-height: 1em;\n",
       "  font-family: monospace;\n",
       "  background-color: var(--sklearn-color-background);\n",
       "  border-radius: 1em;\n",
       "  height: 1em;\n",
       "  width: 1em;\n",
       "  text-decoration: none !important;\n",
       "  margin-left: 1ex;\n",
       "  /* unfitted */\n",
       "  border: var(--sklearn-color-unfitted-level-1) 1pt solid;\n",
       "  color: var(--sklearn-color-unfitted-level-1);\n",
       "}\n",
       "\n",
       ".sk-estimator-doc-link.fitted,\n",
       "a:link.sk-estimator-doc-link.fitted,\n",
       "a:visited.sk-estimator-doc-link.fitted {\n",
       "  /* fitted */\n",
       "  border: var(--sklearn-color-fitted-level-1) 1pt solid;\n",
       "  color: var(--sklearn-color-fitted-level-1);\n",
       "}\n",
       "\n",
       "/* On hover */\n",
       "div.sk-estimator:hover .sk-estimator-doc-link:hover,\n",
       ".sk-estimator-doc-link:hover,\n",
       "div.sk-label-container:hover .sk-estimator-doc-link:hover,\n",
       ".sk-estimator-doc-link:hover {\n",
       "  /* unfitted */\n",
       "  background-color: var(--sklearn-color-unfitted-level-3);\n",
       "  color: var(--sklearn-color-background);\n",
       "  text-decoration: none;\n",
       "}\n",
       "\n",
       "div.sk-estimator.fitted:hover .sk-estimator-doc-link.fitted:hover,\n",
       ".sk-estimator-doc-link.fitted:hover,\n",
       "div.sk-label-container:hover .sk-estimator-doc-link.fitted:hover,\n",
       ".sk-estimator-doc-link.fitted:hover {\n",
       "  /* fitted */\n",
       "  background-color: var(--sklearn-color-fitted-level-3);\n",
       "  color: var(--sklearn-color-background);\n",
       "  text-decoration: none;\n",
       "}\n",
       "\n",
       "/* Span, style for the box shown on hovering the info icon */\n",
       ".sk-estimator-doc-link span {\n",
       "  display: none;\n",
       "  z-index: 9999;\n",
       "  position: relative;\n",
       "  font-weight: normal;\n",
       "  right: .2ex;\n",
       "  padding: .5ex;\n",
       "  margin: .5ex;\n",
       "  width: min-content;\n",
       "  min-width: 20ex;\n",
       "  max-width: 50ex;\n",
       "  color: var(--sklearn-color-text);\n",
       "  box-shadow: 2pt 2pt 4pt #999;\n",
       "  /* unfitted */\n",
       "  background: var(--sklearn-color-unfitted-level-0);\n",
       "  border: .5pt solid var(--sklearn-color-unfitted-level-3);\n",
       "}\n",
       "\n",
       ".sk-estimator-doc-link.fitted span {\n",
       "  /* fitted */\n",
       "  background: var(--sklearn-color-fitted-level-0);\n",
       "  border: var(--sklearn-color-fitted-level-3);\n",
       "}\n",
       "\n",
       ".sk-estimator-doc-link:hover span {\n",
       "  display: block;\n",
       "}\n",
       "\n",
       "/* \"?\"-specific style due to the `<a>` HTML tag */\n",
       "\n",
       "#sk-container-id-2 a.estimator_doc_link {\n",
       "  float: right;\n",
       "  font-size: 1rem;\n",
       "  line-height: 1em;\n",
       "  font-family: monospace;\n",
       "  background-color: var(--sklearn-color-background);\n",
       "  border-radius: 1rem;\n",
       "  height: 1rem;\n",
       "  width: 1rem;\n",
       "  text-decoration: none;\n",
       "  /* unfitted */\n",
       "  color: var(--sklearn-color-unfitted-level-1);\n",
       "  border: var(--sklearn-color-unfitted-level-1) 1pt solid;\n",
       "}\n",
       "\n",
       "#sk-container-id-2 a.estimator_doc_link.fitted {\n",
       "  /* fitted */\n",
       "  border: var(--sklearn-color-fitted-level-1) 1pt solid;\n",
       "  color: var(--sklearn-color-fitted-level-1);\n",
       "}\n",
       "\n",
       "/* On hover */\n",
       "#sk-container-id-2 a.estimator_doc_link:hover {\n",
       "  /* unfitted */\n",
       "  background-color: var(--sklearn-color-unfitted-level-3);\n",
       "  color: var(--sklearn-color-background);\n",
       "  text-decoration: none;\n",
       "}\n",
       "\n",
       "#sk-container-id-2 a.estimator_doc_link.fitted:hover {\n",
       "  /* fitted */\n",
       "  background-color: var(--sklearn-color-fitted-level-3);\n",
       "}\n",
       "</style><div id=\"sk-container-id-2\" class=\"sk-top-container\"><div class=\"sk-text-repr-fallback\"><pre>DecisionTreeClassifier(ccp_alpha=0.0003945041340130133, criterion=&#x27;entropy&#x27;)</pre><b>In a Jupyter environment, please rerun this cell to show the HTML representation or trust the notebook. <br />On GitHub, the HTML representation is unable to render, please try loading this page with nbviewer.org.</b></div><div class=\"sk-container\" hidden><div class=\"sk-item\"><div class=\"sk-estimator fitted sk-toggleable\"><input class=\"sk-toggleable__control sk-hidden--visually\" id=\"sk-estimator-id-2\" type=\"checkbox\" checked><label for=\"sk-estimator-id-2\" class=\"sk-toggleable__label fitted sk-toggleable__label-arrow fitted\">&nbsp;&nbsp;DecisionTreeClassifier<a class=\"sk-estimator-doc-link fitted\" rel=\"noreferrer\" target=\"_blank\" href=\"https://scikit-learn.org/1.4/modules/generated/sklearn.tree.DecisionTreeClassifier.html\">?<span>Documentation for DecisionTreeClassifier</span></a><span class=\"sk-estimator-doc-link fitted\">i<span>Fitted</span></span></label><div class=\"sk-toggleable__content fitted\"><pre>DecisionTreeClassifier(ccp_alpha=0.0003945041340130133, criterion=&#x27;entropy&#x27;)</pre></div> </div></div></div></div>"
      ],
      "text/plain": [
       "DecisionTreeClassifier(ccp_alpha=0.0003945041340130133, criterion='entropy')"
      ]
     },
     "execution_count": 57,
     "metadata": {},
     "output_type": "execute_result"
    }
   ],
   "source": [
    "ideal_ccp_alpha = alpha_results.sort_values(by=['mean_accuracy'], ascending=False).iloc[0]\n",
    "ideal_ccp_alpha = float(ideal_ccp_alpha['alpha'])\n",
    "print(f\"Optimal alpha value: {ideal_ccp_alpha}\")\n",
    "\n",
    "# build the optimum tree\n",
    "decision_tree = tree.DecisionTreeClassifier(criterion='entropy', ccp_alpha=ideal_ccp_alpha)\n",
    "decision_tree.fit(ids2018_train_X_scaled, ids2018_train_y)"
   ]
  },
  {
   "cell_type": "code",
   "execution_count": 58,
   "id": "9be43a51-ed9e-425f-bd1e-776928085b57",
   "metadata": {},
   "outputs": [
    {
     "name": "stdout",
     "output_type": "stream",
     "text": [
      "Accuracy: 0.97311\n"
     ]
    }
   ],
   "source": [
    "# Prediction accuracy of model with optimal hyperparameters\n",
    "prediction = decision_tree.predict(ids2018_test_X_scaled)\n",
    "accuracy = metrics.accuracy_score(ids2018_test_y, prediction)\n",
    "print(f\"Accuracy: {accuracy:.5f}\")"
   ]
  },
  {
   "cell_type": "markdown",
   "id": "76aea9f3-1e5d-4c8e-bf9e-893c1e3fcf22",
   "metadata": {},
   "source": [
    "### Random Forest"
   ]
  },
  {
   "cell_type": "code",
   "execution_count": 59,
   "id": "ceb0fd37-3ad6-4f31-a501-6dca16f06a8b",
   "metadata": {},
   "outputs": [
    {
     "name": "stdout",
     "output_type": "stream",
     "text": [
      "Optimum hyperparameters: \n",
      "{'criterion': 'entropy', 'max_depth': 20, 'min_samples_leaf': 1e-05, 'min_samples_split': 0.0005, 'n_estimators': 350}\n",
      "CPU times: total: 30.9 s\n",
      "Wall time: 35min 20s\n"
     ]
    }
   ],
   "source": [
    "%%time\n",
    "\n",
    "parameter_space = [\n",
    "    {'criterion': ['gini', 'entropy'],\n",
    "    'max_depth': [10, 20, 30],\n",
    "    'min_samples_leaf': [3, 0.0001, 0.0005, 0.00001], \n",
    "    'min_samples_split': [8, 0.0005, 0.0001, 0.00001], \n",
    "    'n_estimators': [100, 200, 350]\n",
    "    }\n",
    "]\n",
    "\n",
    "optimal_rf = GridSearchCV(\n",
    "                        RandomForestClassifier(),\n",
    "                        parameter_space, \n",
    "                        cv=5,\n",
    "                        scoring='accuracy',\n",
    "                        n_jobs=-1,\n",
    "                        verbose=0\n",
    ")\n",
    "\n",
    "optimal_rf.fit(ids2018_train_X_scaled, ids2018_train_y)\n",
    "rf_optimal_params = optimal_rf.best_params_\n",
    "print(f\"Optimum hyperparameters: \\n{rf_optimal_params}\")"
   ]
  },
  {
   "cell_type": "code",
   "execution_count": 60,
   "id": "bb8fefea-fb0d-4aa4-a2a2-08ffdef2ea12",
   "metadata": {},
   "outputs": [
    {
     "name": "stdout",
     "output_type": "stream",
     "text": [
      "Accuracy: 0.97408\n"
     ]
    }
   ],
   "source": [
    "# Prediction accuracy of model with optimal hyperparameters\n",
    "prediction = optimal_rf.predict(ids2018_test_X_scaled)\n",
    "accuracy = metrics.accuracy_score(ids2018_test_y, prediction)\n",
    "print(f\"Accuracy: {accuracy:.5f}\")"
   ]
  },
  {
   "cell_type": "markdown",
   "id": "dad99fa5-ede4-4f07-8335-81526f4d0acd",
   "metadata": {},
   "source": [
    "### Naive Bayes"
   ]
  },
  {
   "cell_type": "code",
   "execution_count": 62,
   "id": "bc11fd24-8355-4c3c-96e2-0fa62eeb8d5c",
   "metadata": {},
   "outputs": [
    {
     "name": "stdout",
     "output_type": "stream",
     "text": [
      "Optimum hyperparameters: \n",
      "{'var_smoothing': 0.1}\n",
      "CPU times: total: 1.53 s\n",
      "Wall time: 7.58 s\n"
     ]
    }
   ],
   "source": [
    "%%time\n",
    "\n",
    "parameter_space = [\n",
    "    {'var_smoothing': np.logspace(0, -9, num=100)}\n",
    "]\n",
    "\n",
    "optimal_nb = GridSearchCV(\n",
    "                        GaussianNB(),\n",
    "                        parameter_space, \n",
    "                        cv=5,\n",
    "                        n_jobs=-1,\n",
    "                        verbose=0\n",
    ")\n",
    "\n",
    "optimal_nb.fit(ids2018_train_X_scaled, ids2018_train_y)\n",
    "nb_optimal_params = optimal_nb.best_params_\n",
    "print(f\"Optimum hyperparameters: \\n{nb_optimal_params}\")"
   ]
  },
  {
   "cell_type": "code",
   "execution_count": 63,
   "id": "4865f961-548f-4070-8a8a-df425a7e8932",
   "metadata": {},
   "outputs": [
    {
     "name": "stdout",
     "output_type": "stream",
     "text": [
      "Accuracy: 0.77922\n"
     ]
    }
   ],
   "source": [
    "# Prediction accuracy of model with optimal hyperparameters\n",
    "prediction = optimal_nb.predict(ids2018_test_X_scaled)\n",
    "accuracy = metrics.accuracy_score(ids2018_test_y, prediction)\n",
    "print(f\"Accuracy: {accuracy:.5f}\")"
   ]
  },
  {
   "cell_type": "markdown",
   "id": "9416b787-1770-4925-994a-15fde8afcc90",
   "metadata": {},
   "source": [
    "### Artificial Neural Network"
   ]
  },
  {
   "cell_type": "code",
   "execution_count": 64,
   "id": "2729570a-9a61-486c-94dd-67019cfd56c2",
   "metadata": {},
   "outputs": [
    {
     "name": "stdout",
     "output_type": "stream",
     "text": [
      "Optimum hyperparameters: \n",
      "{'activation': 'tanh', 'alpha': 1e-05, 'hidden_layer_sizes': (50,), 'solver': 'adam'}\n",
      "CPU times: total: 11.5 s\n",
      "Wall time: 26min 4s\n"
     ]
    }
   ],
   "source": [
    "%%time\n",
    "\n",
    "parameter_space = [\n",
    "    {'hidden_layer_sizes': [(10,), (20,), (30,), (40,), (50,)],\n",
    "    'activation': ['tanh', 'relu', 'logistic'],\n",
    "    'solver': ['adam', 'sgd'],\n",
    "    'alpha': [0.0001, 0.001, 0.00001]}\n",
    "]\n",
    "\n",
    "ann = MLPClassifier(max_iter=500)\n",
    "\n",
    "optimal_ann = GridSearchCV(\n",
    "                        ann,\n",
    "                        parameter_space, \n",
    "                        cv=5,\n",
    "                        n_jobs=-1,\n",
    "                        verbose=0\n",
    ")\n",
    "\n",
    "optimal_ann.fit(ids2018_train_X_scaled, ids2018_train_y)\n",
    "ann_optimal_params = optimal_ann.best_params_\n",
    "print(f\"Optimum hyperparameters: \\n{ann_optimal_params}\")"
   ]
  },
  {
   "cell_type": "code",
   "execution_count": 65,
   "id": "baa68c37-e4a0-47c0-b6c9-560d056f680a",
   "metadata": {},
   "outputs": [
    {
     "name": "stdout",
     "output_type": "stream",
     "text": [
      "Accuracy: 0.94188\n"
     ]
    }
   ],
   "source": [
    "# Prediction accuracy of model with optimal hyperparameters\n",
    "prediction = optimal_ann.predict(ids2018_test_X_scaled)\n",
    "accuracy = metrics.accuracy_score(ids2018_test_y, prediction)\n",
    "print(f\"Accuracy: {accuracy:.5f}\")"
   ]
  },
  {
   "cell_type": "markdown",
   "id": "e3ec28ed-ae19-40ef-a1eb-9633b6c72981",
   "metadata": {},
   "source": [
    "### Deep Neural Network"
   ]
  },
  {
   "cell_type": "code",
   "execution_count": 66,
   "id": "35192794-2f61-4e6d-91ec-fe0224a11bfc",
   "metadata": {},
   "outputs": [
    {
     "name": "stdout",
     "output_type": "stream",
     "text": [
      "Optimum hyperparameters: \n",
      "{'activation': 'tanh', 'alpha': 1e-05, 'hidden_layer_sizes': (12, 12, 12), 'solver': 'adam'}\n",
      "CPU times: total: 14.8 s\n",
      "Wall time: 17min 26s\n"
     ]
    }
   ],
   "source": [
    "%%time\n",
    "\n",
    "parameter_space = [\n",
    "    {'hidden_layer_sizes': [(10,10, 10), (12, 12, 12), (15, 15, 15), (8, 8, 8, 8), (10, 10, 10, 10)],\n",
    "    'activation': ['tanh', 'relu', 'logistic'],\n",
    "    'solver': ['adam', 'sgd'],\n",
    "    'alpha': [0.0001, 0.00001, 0.001]}\n",
    "]\n",
    "\n",
    "dnn = MLPClassifier(max_iter=500)\n",
    "\n",
    "optimal_dnn = GridSearchCV(\n",
    "                        dnn,\n",
    "                        parameter_space, \n",
    "                        cv=5,\n",
    "                        n_jobs=-1,\n",
    "                        verbose=0\n",
    ")\n",
    "\n",
    "optimal_dnn.fit(ids2018_train_X_scaled, ids2018_train_y)\n",
    "dnn_optimal_params = optimal_dnn.best_params_\n",
    "print(f\"Optimum hyperparameters: \\n{dnn_optimal_params}\")"
   ]
  },
  {
   "cell_type": "code",
   "execution_count": 67,
   "id": "567dcfee-8c7f-4157-addf-28611b6277b1",
   "metadata": {},
   "outputs": [
    {
     "name": "stdout",
     "output_type": "stream",
     "text": [
      "Accuracy: 0.95352\n"
     ]
    }
   ],
   "source": [
    "# Prediction accuracy of model with optimal hyperparameters\n",
    "prediction = optimal_dnn.predict(ids2018_test_X_scaled)\n",
    "accuracy = metrics.accuracy_score(ids2018_test_y, prediction)\n",
    "print(f\"Accuracy: {accuracy:.5f}\")"
   ]
  },
  {
   "cell_type": "markdown",
   "id": "35a61785-9ac8-4cfe-a23e-fc32b095bc70",
   "metadata": {},
   "source": [
    "### ELM"
   ]
  },
  {
   "cell_type": "code",
   "execution_count": 85,
   "id": "0996dad7-874d-4c29-b2e4-23a88a52c184",
   "metadata": {},
   "outputs": [
    {
     "name": "stdout",
     "output_type": "stream",
     "text": [
      "Optimum hyperparameters for ELM: \n",
      "{'alpha': 1e-05, 'n_neurons': 7000, 'ufunc': 'relu'}\n",
      "CPU times: total: 1min 49s\n",
      "Wall time: 10min 34s\n"
     ]
    }
   ],
   "source": [
    "%%time\n",
    "\n",
    "# Custom wrapper for ELMClassifier to define the missing `pairwise` tag\n",
    "class CustomELMClassifier(ELMClassifier):\n",
    "    def _get_tags(self):\n",
    "        tags = super()._get_tags()\n",
    "        # Add the missing pairwise tag\n",
    "        tags['pairwise'] = False\n",
    "        return tags\n",
    "\n",
    "# Define the parameter space\n",
    "parameter_space = {\n",
    "    'n_neurons': [1000, 2000, 5000, 7000],\n",
    "    'ufunc': ['tanh', 'relu', 'sigmoid', 'linear'],\n",
    "    'alpha': [1e-7, 1e-5, 1e-3, 1e-1]\n",
    "}\n",
    "\n",
    "# Initialize the CustomELMClassifier\n",
    "elm = CustomELMClassifier()\n",
    "\n",
    "optimal_elm = GridSearchCV(\n",
    "                        elm,\n",
    "                        parameter_space, \n",
    "                        cv=5,\n",
    "                        n_jobs=-1,\n",
    "                        verbose=0\n",
    ")\n",
    "\n",
    "# Perform grid search to find the best hyperparameters\n",
    "optimal_elm.fit(ids2018_train_X_scaled, ids2018_train_y)\n",
    "\n",
    "# Get the best parameters from GridSearchCV\n",
    "elm_optimal_params = optimal_elm.best_params_\n",
    "print(f\"Optimum hyperparameters for ELM: \\n{elm_optimal_params}\")"
   ]
  },
  {
   "cell_type": "code",
   "execution_count": 86,
   "id": "2a3cf513-f0c3-43e9-a064-633772ab5719",
   "metadata": {},
   "outputs": [
    {
     "name": "stdout",
     "output_type": "stream",
     "text": [
      "Accuracy: 0.96412\n"
     ]
    }
   ],
   "source": [
    "# Prediction accuracy of model with optimal hyperparameters\n",
    "prediction = optimal_elm.predict(ids2018_test_X_scaled)\n",
    "accuracy = metrics.accuracy_score(ids2018_test_y, prediction)\n",
    "print(f\"Accuracy: {accuracy:.5f}\")"
   ]
  }
 ],
 "metadata": {
  "kernelspec": {
   "display_name": "Python 3 (ipykernel)",
   "language": "python",
   "name": "python3"
  },
  "language_info": {
   "codemirror_mode": {
    "name": "ipython",
    "version": 3
   },
   "file_extension": ".py",
   "mimetype": "text/x-python",
   "name": "python",
   "nbconvert_exporter": "python",
   "pygments_lexer": "ipython3",
   "version": "3.12.4"
  }
 },
 "nbformat": 4,
 "nbformat_minor": 5
}
